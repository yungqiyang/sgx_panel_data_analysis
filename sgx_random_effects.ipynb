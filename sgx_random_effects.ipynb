{
 "cells": [
  {
   "cell_type": "markdown",
   "metadata": {},
   "source": [
    "# Random Effects Estimation of the determinants of leverage amongst SGX listed companies"
   ]
  },
  {
   "cell_type": "markdown",
   "metadata": {},
   "source": [
    "## Import the necessary packages"
   ]
  },
  {
   "cell_type": "code",
   "execution_count": 238,
   "metadata": {},
   "outputs": [],
   "source": [
    "import pandas as pd\n",
    "import numpy as np\n",
    "from scipy import stats\n",
    "\n",
    "import statsmodels.api as sm\n",
    "from statsmodels.regression.linear_model import RegressionResults\n",
    "from linearmodels.panel import RandomEffects\n",
    "from linearmodels.panel.results import PanelResults, RandomEffectsResults, PanelEffectsResults\n",
    "\n",
    "from statsmodels.iolib import load_pickle, save_pickle\n",
    "\n",
    "from typing import Union"
   ]
  },
  {
   "cell_type": "markdown",
   "metadata": {},
   "source": [
    "## Loading the SGX Data"
   ]
  },
  {
   "cell_type": "code",
   "execution_count": 239,
   "metadata": {},
   "outputs": [
    {
     "data": {
      "text/html": [
       "<div>\n",
       "<style scoped>\n",
       "    .dataframe tbody tr th:only-of-type {\n",
       "        vertical-align: middle;\n",
       "    }\n",
       "\n",
       "    .dataframe tbody tr th {\n",
       "        vertical-align: top;\n",
       "    }\n",
       "\n",
       "    .dataframe thead th {\n",
       "        text-align: right;\n",
       "    }\n",
       "</style>\n",
       "<table border=\"1\" class=\"dataframe\">\n",
       "  <thead>\n",
       "    <tr style=\"text-align: right;\">\n",
       "      <th></th>\n",
       "      <th>Company</th>\n",
       "      <th>NACE</th>\n",
       "      <th>Year</th>\n",
       "      <th>TA</th>\n",
       "      <th>CA</th>\n",
       "      <th>FA</th>\n",
       "      <th>TL</th>\n",
       "      <th>CL</th>\n",
       "      <th>DEBT</th>\n",
       "      <th>TAXEX</th>\n",
       "      <th>...</th>\n",
       "      <th>SIZE</th>\n",
       "      <th>PROFITABILITY</th>\n",
       "      <th>TANG</th>\n",
       "      <th>RISK</th>\n",
       "      <th>LIQUID</th>\n",
       "      <th>NDTSHIELD</th>\n",
       "      <th>TAXRATE</th>\n",
       "      <th>FCFF</th>\n",
       "      <th>GROWPOT</th>\n",
       "      <th>LEVERAGE</th>\n",
       "    </tr>\n",
       "  </thead>\n",
       "  <tbody>\n",
       "    <tr>\n",
       "      <th>0</th>\n",
       "      <td>A SONIC AEROSPACE LIMITED</td>\n",
       "      <td>26</td>\n",
       "      <td>2015.0</td>\n",
       "      <td>6.107200e+07</td>\n",
       "      <td>4.941900e+07</td>\n",
       "      <td>1.079300e+07</td>\n",
       "      <td>3.331800e+07</td>\n",
       "      <td>3.160000e+07</td>\n",
       "      <td>-1.437900e+07</td>\n",
       "      <td>2.910000e+05</td>\n",
       "      <td>...</td>\n",
       "      <td>17.927564</td>\n",
       "      <td>-0.094659</td>\n",
       "      <td>0.176726</td>\n",
       "      <td>-82.603240</td>\n",
       "      <td>1.563892</td>\n",
       "      <td>0.041296</td>\n",
       "      <td>-0.029991</td>\n",
       "      <td>4.729897e+06</td>\n",
       "      <td>1.342854</td>\n",
       "      <td>-0.235443</td>\n",
       "    </tr>\n",
       "    <tr>\n",
       "      <th>1</th>\n",
       "      <td>A SONIC AEROSPACE LIMITED</td>\n",
       "      <td>26</td>\n",
       "      <td>2016.0</td>\n",
       "      <td>6.467500e+07</td>\n",
       "      <td>5.772600e+07</td>\n",
       "      <td>6.258000e+06</td>\n",
       "      <td>3.964200e+07</td>\n",
       "      <td>3.835100e+07</td>\n",
       "      <td>-1.338600e+07</td>\n",
       "      <td>-2.650000e+05</td>\n",
       "      <td>...</td>\n",
       "      <td>17.984885</td>\n",
       "      <td>-0.010839</td>\n",
       "      <td>0.096761</td>\n",
       "      <td>12.036318</td>\n",
       "      <td>1.505202</td>\n",
       "      <td>0.012911</td>\n",
       "      <td>0.097070</td>\n",
       "      <td>6.670989e+05</td>\n",
       "      <td>0.279433</td>\n",
       "      <td>-0.206973</td>\n",
       "    </tr>\n",
       "    <tr>\n",
       "      <th>2</th>\n",
       "      <td>A SONIC AEROSPACE LIMITED</td>\n",
       "      <td>26</td>\n",
       "      <td>2017.0</td>\n",
       "      <td>7.524600e+07</td>\n",
       "      <td>6.803700e+07</td>\n",
       "      <td>6.118000e+06</td>\n",
       "      <td>5.161200e+07</td>\n",
       "      <td>5.066000e+07</td>\n",
       "      <td>-1.792500e+07</td>\n",
       "      <td>-2.160000e+05</td>\n",
       "      <td>...</td>\n",
       "      <td>18.136273</td>\n",
       "      <td>-0.013888</td>\n",
       "      <td>0.081307</td>\n",
       "      <td>1.605162</td>\n",
       "      <td>1.343012</td>\n",
       "      <td>0.010791</td>\n",
       "      <td>0.150313</td>\n",
       "      <td>4.998374e+06</td>\n",
       "      <td>0.335075</td>\n",
       "      <td>-0.238219</td>\n",
       "    </tr>\n",
       "    <tr>\n",
       "      <th>3</th>\n",
       "      <td>A SONIC AEROSPACE LIMITED</td>\n",
       "      <td>26</td>\n",
       "      <td>2018.0</td>\n",
       "      <td>7.359400e+07</td>\n",
       "      <td>6.584300e+07</td>\n",
       "      <td>5.849000e+06</td>\n",
       "      <td>4.928100e+07</td>\n",
       "      <td>4.870300e+07</td>\n",
       "      <td>-1.906200e+07</td>\n",
       "      <td>-1.820000e+05</td>\n",
       "      <td>...</td>\n",
       "      <td>18.114074</td>\n",
       "      <td>0.013371</td>\n",
       "      <td>0.079477</td>\n",
       "      <td>-20.179642</td>\n",
       "      <td>1.351929</td>\n",
       "      <td>0.010245</td>\n",
       "      <td>-0.140108</td>\n",
       "      <td>8.313457e+05</td>\n",
       "      <td>0.378908</td>\n",
       "      <td>-0.259016</td>\n",
       "    </tr>\n",
       "    <tr>\n",
       "      <th>4</th>\n",
       "      <td>A SONIC AEROSPACE LIMITED</td>\n",
       "      <td>26</td>\n",
       "      <td>2019.0</td>\n",
       "      <td>6.428400e+07</td>\n",
       "      <td>5.679200e+07</td>\n",
       "      <td>7.293000e+06</td>\n",
       "      <td>3.731000e+07</td>\n",
       "      <td>3.643600e+07</td>\n",
       "      <td>-1.432700e+07</td>\n",
       "      <td>-3.740000e+05</td>\n",
       "      <td>...</td>\n",
       "      <td>17.978821</td>\n",
       "      <td>0.078838</td>\n",
       "      <td>0.113450</td>\n",
       "      <td>-193.544766</td>\n",
       "      <td>1.558678</td>\n",
       "      <td>0.029790</td>\n",
       "      <td>-0.173228</td>\n",
       "      <td>3.991890e+05</td>\n",
       "      <td>0.716118</td>\n",
       "      <td>-0.222870</td>\n",
       "    </tr>\n",
       "    <tr>\n",
       "      <th>...</th>\n",
       "      <td>...</td>\n",
       "      <td>...</td>\n",
       "      <td>...</td>\n",
       "      <td>...</td>\n",
       "      <td>...</td>\n",
       "      <td>...</td>\n",
       "      <td>...</td>\n",
       "      <td>...</td>\n",
       "      <td>...</td>\n",
       "      <td>...</td>\n",
       "      <td>...</td>\n",
       "      <td>...</td>\n",
       "      <td>...</td>\n",
       "      <td>...</td>\n",
       "      <td>...</td>\n",
       "      <td>...</td>\n",
       "      <td>...</td>\n",
       "      <td>...</td>\n",
       "      <td>...</td>\n",
       "      <td>...</td>\n",
       "      <td>...</td>\n",
       "    </tr>\n",
       "    <tr>\n",
       "      <th>1723</th>\n",
       "      <td>YONGNAM HOLDINGS LIMITED</td>\n",
       "      <td>71</td>\n",
       "      <td>2018.0</td>\n",
       "      <td>3.503341e+08</td>\n",
       "      <td>1.196307e+08</td>\n",
       "      <td>2.306594e+08</td>\n",
       "      <td>1.703341e+08</td>\n",
       "      <td>1.032232e+08</td>\n",
       "      <td>9.217834e+07</td>\n",
       "      <td>8.678195e+06</td>\n",
       "      <td>...</td>\n",
       "      <td>19.674398</td>\n",
       "      <td>-0.059740</td>\n",
       "      <td>0.658398</td>\n",
       "      <td>-3.777753</td>\n",
       "      <td>1.158952</td>\n",
       "      <td>0.062545</td>\n",
       "      <td>-0.302336</td>\n",
       "      <td>-1.035043e+07</td>\n",
       "      <td>0.402061</td>\n",
       "      <td>0.263116</td>\n",
       "    </tr>\n",
       "    <tr>\n",
       "      <th>1724</th>\n",
       "      <td>YONGNAM HOLDINGS LIMITED</td>\n",
       "      <td>71</td>\n",
       "      <td>2019.0</td>\n",
       "      <td>3.429246e+08</td>\n",
       "      <td>1.037248e+08</td>\n",
       "      <td>2.351062e+08</td>\n",
       "      <td>2.013324e+08</td>\n",
       "      <td>1.504135e+08</td>\n",
       "      <td>1.227331e+08</td>\n",
       "      <td>3.608225e+06</td>\n",
       "      <td>...</td>\n",
       "      <td>19.653021</td>\n",
       "      <td>-0.033475</td>\n",
       "      <td>0.685591</td>\n",
       "      <td>-0.690731</td>\n",
       "      <td>0.689598</td>\n",
       "      <td>0.071469</td>\n",
       "      <td>-0.099419</td>\n",
       "      <td>4.195210e+07</td>\n",
       "      <td>0.410953</td>\n",
       "      <td>0.357901</td>\n",
       "    </tr>\n",
       "    <tr>\n",
       "      <th>1725</th>\n",
       "      <td>YONGNAM HOLDINGS LIMITED</td>\n",
       "      <td>71</td>\n",
       "      <td>2020.0</td>\n",
       "      <td>2.913047e+08</td>\n",
       "      <td>6.392860e+07</td>\n",
       "      <td>2.236608e+08</td>\n",
       "      <td>2.061644e+08</td>\n",
       "      <td>1.618667e+08</td>\n",
       "      <td>1.292187e+08</td>\n",
       "      <td>-4.172907e+06</td>\n",
       "      <td>...</td>\n",
       "      <td>19.489881</td>\n",
       "      <td>-0.064894</td>\n",
       "      <td>0.767790</td>\n",
       "      <td>-0.541603</td>\n",
       "      <td>0.394946</td>\n",
       "      <td>0.093303</td>\n",
       "      <td>0.066056</td>\n",
       "      <td>5.687663e+07</td>\n",
       "      <td>0.380703</td>\n",
       "      <td>0.443586</td>\n",
       "    </tr>\n",
       "    <tr>\n",
       "      <th>1726</th>\n",
       "      <td>YONGNAM HOLDINGS LIMITED</td>\n",
       "      <td>71</td>\n",
       "      <td>2021.0</td>\n",
       "      <td>2.595798e+08</td>\n",
       "      <td>6.673153e+07</td>\n",
       "      <td>1.896449e+08</td>\n",
       "      <td>1.906858e+08</td>\n",
       "      <td>1.146763e+08</td>\n",
       "      <td>1.165392e+08</td>\n",
       "      <td>4.512836e+04</td>\n",
       "      <td>...</td>\n",
       "      <td>19.374575</td>\n",
       "      <td>0.027514</td>\n",
       "      <td>0.730584</td>\n",
       "      <td>-2.513608</td>\n",
       "      <td>0.581912</td>\n",
       "      <td>0.078202</td>\n",
       "      <td>-0.002244</td>\n",
       "      <td>2.717399e+07</td>\n",
       "      <td>0.317394</td>\n",
       "      <td>0.448953</td>\n",
       "    </tr>\n",
       "    <tr>\n",
       "      <th>1727</th>\n",
       "      <td>YONGNAM HOLDINGS LIMITED</td>\n",
       "      <td>71</td>\n",
       "      <td>2022.0</td>\n",
       "      <td>2.308791e+08</td>\n",
       "      <td>6.542243e+07</td>\n",
       "      <td>1.623702e+08</td>\n",
       "      <td>1.868504e+08</td>\n",
       "      <td>1.612576e+08</td>\n",
       "      <td>1.057712e+08</td>\n",
       "      <td>-9.296445e+04</td>\n",
       "      <td>...</td>\n",
       "      <td>19.257405</td>\n",
       "      <td>0.009406</td>\n",
       "      <td>0.703270</td>\n",
       "      <td>2.244895</td>\n",
       "      <td>0.405701</td>\n",
       "      <td>0.082164</td>\n",
       "      <td>0.002840</td>\n",
       "      <td>3.845589e+07</td>\n",
       "      <td>0.309159</td>\n",
       "      <td>0.458124</td>\n",
       "    </tr>\n",
       "  </tbody>\n",
       "</table>\n",
       "<p>1728 rows × 34 columns</p>\n",
       "</div>"
      ],
      "text/plain": [
       "                        Company  NACE    Year            TA            CA  \\\n",
       "0     A SONIC AEROSPACE LIMITED    26  2015.0  6.107200e+07  4.941900e+07   \n",
       "1     A SONIC AEROSPACE LIMITED    26  2016.0  6.467500e+07  5.772600e+07   \n",
       "2     A SONIC AEROSPACE LIMITED    26  2017.0  7.524600e+07  6.803700e+07   \n",
       "3     A SONIC AEROSPACE LIMITED    26  2018.0  7.359400e+07  6.584300e+07   \n",
       "4     A SONIC AEROSPACE LIMITED    26  2019.0  6.428400e+07  5.679200e+07   \n",
       "...                         ...   ...     ...           ...           ...   \n",
       "1723   YONGNAM HOLDINGS LIMITED    71  2018.0  3.503341e+08  1.196307e+08   \n",
       "1724   YONGNAM HOLDINGS LIMITED    71  2019.0  3.429246e+08  1.037248e+08   \n",
       "1725   YONGNAM HOLDINGS LIMITED    71  2020.0  2.913047e+08  6.392860e+07   \n",
       "1726   YONGNAM HOLDINGS LIMITED    71  2021.0  2.595798e+08  6.673153e+07   \n",
       "1727   YONGNAM HOLDINGS LIMITED    71  2022.0  2.308791e+08  6.542243e+07   \n",
       "\n",
       "                FA            TL            CL          DEBT         TAXEX  \\\n",
       "0     1.079300e+07  3.331800e+07  3.160000e+07 -1.437900e+07  2.910000e+05   \n",
       "1     6.258000e+06  3.964200e+07  3.835100e+07 -1.338600e+07 -2.650000e+05   \n",
       "2     6.118000e+06  5.161200e+07  5.066000e+07 -1.792500e+07 -2.160000e+05   \n",
       "3     5.849000e+06  4.928100e+07  4.870300e+07 -1.906200e+07 -1.820000e+05   \n",
       "4     7.293000e+06  3.731000e+07  3.643600e+07 -1.432700e+07 -3.740000e+05   \n",
       "...            ...           ...           ...           ...           ...   \n",
       "1723  2.306594e+08  1.703341e+08  1.032232e+08  9.217834e+07  8.678195e+06   \n",
       "1724  2.351062e+08  2.013324e+08  1.504135e+08  1.227331e+08  3.608225e+06   \n",
       "1725  2.236608e+08  2.061644e+08  1.618667e+08  1.292187e+08 -4.172907e+06   \n",
       "1726  1.896449e+08  1.906858e+08  1.146763e+08  1.165392e+08  4.512836e+04   \n",
       "1727  1.623702e+08  1.868504e+08  1.612576e+08  1.057712e+08 -9.296445e+04   \n",
       "\n",
       "      ...       SIZE  PROFITABILITY      TANG        RISK    LIQUID  \\\n",
       "0     ...  17.927564      -0.094659  0.176726  -82.603240  1.563892   \n",
       "1     ...  17.984885      -0.010839  0.096761   12.036318  1.505202   \n",
       "2     ...  18.136273      -0.013888  0.081307    1.605162  1.343012   \n",
       "3     ...  18.114074       0.013371  0.079477  -20.179642  1.351929   \n",
       "4     ...  17.978821       0.078838  0.113450 -193.544766  1.558678   \n",
       "...   ...        ...            ...       ...         ...       ...   \n",
       "1723  ...  19.674398      -0.059740  0.658398   -3.777753  1.158952   \n",
       "1724  ...  19.653021      -0.033475  0.685591   -0.690731  0.689598   \n",
       "1725  ...  19.489881      -0.064894  0.767790   -0.541603  0.394946   \n",
       "1726  ...  19.374575       0.027514  0.730584   -2.513608  0.581912   \n",
       "1727  ...  19.257405       0.009406  0.703270    2.244895  0.405701   \n",
       "\n",
       "      NDTSHIELD   TAXRATE          FCFF   GROWPOT  LEVERAGE  \n",
       "0      0.041296 -0.029991  4.729897e+06  1.342854 -0.235443  \n",
       "1      0.012911  0.097070  6.670989e+05  0.279433 -0.206973  \n",
       "2      0.010791  0.150313  4.998374e+06  0.335075 -0.238219  \n",
       "3      0.010245 -0.140108  8.313457e+05  0.378908 -0.259016  \n",
       "4      0.029790 -0.173228  3.991890e+05  0.716118 -0.222870  \n",
       "...         ...       ...           ...       ...       ...  \n",
       "1723   0.062545 -0.302336 -1.035043e+07  0.402061  0.263116  \n",
       "1724   0.071469 -0.099419  4.195210e+07  0.410953  0.357901  \n",
       "1725   0.093303  0.066056  5.687663e+07  0.380703  0.443586  \n",
       "1726   0.078202 -0.002244  2.717399e+07  0.317394  0.448953  \n",
       "1727   0.082164  0.002840  3.845589e+07  0.309159  0.458124  \n",
       "\n",
       "[1728 rows x 34 columns]"
      ]
     },
     "execution_count": 239,
     "metadata": {},
     "output_type": "execute_result"
    }
   ],
   "source": [
    "sgx = pd.read_csv(\"data/clean_sgx.csv\")\n",
    "sgx"
   ]
  },
  {
   "cell_type": "code",
   "execution_count": 240,
   "metadata": {},
   "outputs": [
    {
     "data": {
      "text/html": [
       "<div>\n",
       "<style scoped>\n",
       "    .dataframe tbody tr th:only-of-type {\n",
       "        vertical-align: middle;\n",
       "    }\n",
       "\n",
       "    .dataframe tbody tr th {\n",
       "        vertical-align: top;\n",
       "    }\n",
       "\n",
       "    .dataframe thead th {\n",
       "        text-align: right;\n",
       "    }\n",
       "</style>\n",
       "<table border=\"1\" class=\"dataframe\">\n",
       "  <thead>\n",
       "    <tr style=\"text-align: right;\">\n",
       "      <th></th>\n",
       "      <th></th>\n",
       "      <th>Company</th>\n",
       "      <th>NACE</th>\n",
       "      <th>Year</th>\n",
       "      <th>TA</th>\n",
       "      <th>CA</th>\n",
       "      <th>FA</th>\n",
       "      <th>TL</th>\n",
       "      <th>CL</th>\n",
       "      <th>DEBT</th>\n",
       "      <th>TAXEX</th>\n",
       "      <th>...</th>\n",
       "      <th>SIZE</th>\n",
       "      <th>PROFITABILITY</th>\n",
       "      <th>TANG</th>\n",
       "      <th>RISK</th>\n",
       "      <th>LIQUID</th>\n",
       "      <th>NDTSHIELD</th>\n",
       "      <th>TAXRATE</th>\n",
       "      <th>FCFF</th>\n",
       "      <th>GROWPOT</th>\n",
       "      <th>LEVERAGE</th>\n",
       "    </tr>\n",
       "    <tr>\n",
       "      <th>Company Code</th>\n",
       "      <th>Year</th>\n",
       "      <th></th>\n",
       "      <th></th>\n",
       "      <th></th>\n",
       "      <th></th>\n",
       "      <th></th>\n",
       "      <th></th>\n",
       "      <th></th>\n",
       "      <th></th>\n",
       "      <th></th>\n",
       "      <th></th>\n",
       "      <th></th>\n",
       "      <th></th>\n",
       "      <th></th>\n",
       "      <th></th>\n",
       "      <th></th>\n",
       "      <th></th>\n",
       "      <th></th>\n",
       "      <th></th>\n",
       "      <th></th>\n",
       "      <th></th>\n",
       "      <th></th>\n",
       "    </tr>\n",
       "  </thead>\n",
       "  <tbody>\n",
       "    <tr>\n",
       "      <th rowspan=\"5\" valign=\"top\">3</th>\n",
       "      <th>2015.0</th>\n",
       "      <td>A SONIC AEROSPACE LIMITED</td>\n",
       "      <td>26</td>\n",
       "      <td>2015.0</td>\n",
       "      <td>6.107200e+07</td>\n",
       "      <td>4.941900e+07</td>\n",
       "      <td>1.079300e+07</td>\n",
       "      <td>3.331800e+07</td>\n",
       "      <td>3.160000e+07</td>\n",
       "      <td>-1.437900e+07</td>\n",
       "      <td>2.910000e+05</td>\n",
       "      <td>...</td>\n",
       "      <td>17.927564</td>\n",
       "      <td>-0.094659</td>\n",
       "      <td>0.176726</td>\n",
       "      <td>-82.603240</td>\n",
       "      <td>1.563892</td>\n",
       "      <td>0.041296</td>\n",
       "      <td>-0.029991</td>\n",
       "      <td>4.729897e+06</td>\n",
       "      <td>1.342854</td>\n",
       "      <td>-0.235443</td>\n",
       "    </tr>\n",
       "    <tr>\n",
       "      <th>2016.0</th>\n",
       "      <td>A SONIC AEROSPACE LIMITED</td>\n",
       "      <td>26</td>\n",
       "      <td>2016.0</td>\n",
       "      <td>6.467500e+07</td>\n",
       "      <td>5.772600e+07</td>\n",
       "      <td>6.258000e+06</td>\n",
       "      <td>3.964200e+07</td>\n",
       "      <td>3.835100e+07</td>\n",
       "      <td>-1.338600e+07</td>\n",
       "      <td>-2.650000e+05</td>\n",
       "      <td>...</td>\n",
       "      <td>17.984885</td>\n",
       "      <td>-0.010839</td>\n",
       "      <td>0.096761</td>\n",
       "      <td>12.036318</td>\n",
       "      <td>1.505202</td>\n",
       "      <td>0.012911</td>\n",
       "      <td>0.097070</td>\n",
       "      <td>6.670989e+05</td>\n",
       "      <td>0.279433</td>\n",
       "      <td>-0.206973</td>\n",
       "    </tr>\n",
       "    <tr>\n",
       "      <th>2017.0</th>\n",
       "      <td>A SONIC AEROSPACE LIMITED</td>\n",
       "      <td>26</td>\n",
       "      <td>2017.0</td>\n",
       "      <td>7.524600e+07</td>\n",
       "      <td>6.803700e+07</td>\n",
       "      <td>6.118000e+06</td>\n",
       "      <td>5.161200e+07</td>\n",
       "      <td>5.066000e+07</td>\n",
       "      <td>-1.792500e+07</td>\n",
       "      <td>-2.160000e+05</td>\n",
       "      <td>...</td>\n",
       "      <td>18.136273</td>\n",
       "      <td>-0.013888</td>\n",
       "      <td>0.081307</td>\n",
       "      <td>1.605162</td>\n",
       "      <td>1.343012</td>\n",
       "      <td>0.010791</td>\n",
       "      <td>0.150313</td>\n",
       "      <td>4.998374e+06</td>\n",
       "      <td>0.335075</td>\n",
       "      <td>-0.238219</td>\n",
       "    </tr>\n",
       "    <tr>\n",
       "      <th>2018.0</th>\n",
       "      <td>A SONIC AEROSPACE LIMITED</td>\n",
       "      <td>26</td>\n",
       "      <td>2018.0</td>\n",
       "      <td>7.359400e+07</td>\n",
       "      <td>6.584300e+07</td>\n",
       "      <td>5.849000e+06</td>\n",
       "      <td>4.928100e+07</td>\n",
       "      <td>4.870300e+07</td>\n",
       "      <td>-1.906200e+07</td>\n",
       "      <td>-1.820000e+05</td>\n",
       "      <td>...</td>\n",
       "      <td>18.114074</td>\n",
       "      <td>0.013371</td>\n",
       "      <td>0.079477</td>\n",
       "      <td>-20.179642</td>\n",
       "      <td>1.351929</td>\n",
       "      <td>0.010245</td>\n",
       "      <td>-0.140108</td>\n",
       "      <td>8.313457e+05</td>\n",
       "      <td>0.378908</td>\n",
       "      <td>-0.259016</td>\n",
       "    </tr>\n",
       "    <tr>\n",
       "      <th>2019.0</th>\n",
       "      <td>A SONIC AEROSPACE LIMITED</td>\n",
       "      <td>26</td>\n",
       "      <td>2019.0</td>\n",
       "      <td>6.428400e+07</td>\n",
       "      <td>5.679200e+07</td>\n",
       "      <td>7.293000e+06</td>\n",
       "      <td>3.731000e+07</td>\n",
       "      <td>3.643600e+07</td>\n",
       "      <td>-1.432700e+07</td>\n",
       "      <td>-3.740000e+05</td>\n",
       "      <td>...</td>\n",
       "      <td>17.978821</td>\n",
       "      <td>0.078838</td>\n",
       "      <td>0.113450</td>\n",
       "      <td>-193.544766</td>\n",
       "      <td>1.558678</td>\n",
       "      <td>0.029790</td>\n",
       "      <td>-0.173228</td>\n",
       "      <td>3.991890e+05</td>\n",
       "      <td>0.716118</td>\n",
       "      <td>-0.222870</td>\n",
       "    </tr>\n",
       "    <tr>\n",
       "      <th>...</th>\n",
       "      <th>...</th>\n",
       "      <td>...</td>\n",
       "      <td>...</td>\n",
       "      <td>...</td>\n",
       "      <td>...</td>\n",
       "      <td>...</td>\n",
       "      <td>...</td>\n",
       "      <td>...</td>\n",
       "      <td>...</td>\n",
       "      <td>...</td>\n",
       "      <td>...</td>\n",
       "      <td>...</td>\n",
       "      <td>...</td>\n",
       "      <td>...</td>\n",
       "      <td>...</td>\n",
       "      <td>...</td>\n",
       "      <td>...</td>\n",
       "      <td>...</td>\n",
       "      <td>...</td>\n",
       "      <td>...</td>\n",
       "      <td>...</td>\n",
       "      <td>...</td>\n",
       "    </tr>\n",
       "    <tr>\n",
       "      <th rowspan=\"5\" valign=\"top\">573</th>\n",
       "      <th>2018.0</th>\n",
       "      <td>YONGNAM HOLDINGS LIMITED</td>\n",
       "      <td>71</td>\n",
       "      <td>2018.0</td>\n",
       "      <td>3.503341e+08</td>\n",
       "      <td>1.196307e+08</td>\n",
       "      <td>2.306594e+08</td>\n",
       "      <td>1.703341e+08</td>\n",
       "      <td>1.032232e+08</td>\n",
       "      <td>9.217834e+07</td>\n",
       "      <td>8.678195e+06</td>\n",
       "      <td>...</td>\n",
       "      <td>19.674398</td>\n",
       "      <td>-0.059740</td>\n",
       "      <td>0.658398</td>\n",
       "      <td>-3.777753</td>\n",
       "      <td>1.158952</td>\n",
       "      <td>0.062545</td>\n",
       "      <td>-0.302336</td>\n",
       "      <td>-1.035043e+07</td>\n",
       "      <td>0.402061</td>\n",
       "      <td>0.263116</td>\n",
       "    </tr>\n",
       "    <tr>\n",
       "      <th>2019.0</th>\n",
       "      <td>YONGNAM HOLDINGS LIMITED</td>\n",
       "      <td>71</td>\n",
       "      <td>2019.0</td>\n",
       "      <td>3.429246e+08</td>\n",
       "      <td>1.037248e+08</td>\n",
       "      <td>2.351062e+08</td>\n",
       "      <td>2.013324e+08</td>\n",
       "      <td>1.504135e+08</td>\n",
       "      <td>1.227331e+08</td>\n",
       "      <td>3.608225e+06</td>\n",
       "      <td>...</td>\n",
       "      <td>19.653021</td>\n",
       "      <td>-0.033475</td>\n",
       "      <td>0.685591</td>\n",
       "      <td>-0.690731</td>\n",
       "      <td>0.689598</td>\n",
       "      <td>0.071469</td>\n",
       "      <td>-0.099419</td>\n",
       "      <td>4.195210e+07</td>\n",
       "      <td>0.410953</td>\n",
       "      <td>0.357901</td>\n",
       "    </tr>\n",
       "    <tr>\n",
       "      <th>2020.0</th>\n",
       "      <td>YONGNAM HOLDINGS LIMITED</td>\n",
       "      <td>71</td>\n",
       "      <td>2020.0</td>\n",
       "      <td>2.913047e+08</td>\n",
       "      <td>6.392860e+07</td>\n",
       "      <td>2.236608e+08</td>\n",
       "      <td>2.061644e+08</td>\n",
       "      <td>1.618667e+08</td>\n",
       "      <td>1.292187e+08</td>\n",
       "      <td>-4.172907e+06</td>\n",
       "      <td>...</td>\n",
       "      <td>19.489881</td>\n",
       "      <td>-0.064894</td>\n",
       "      <td>0.767790</td>\n",
       "      <td>-0.541603</td>\n",
       "      <td>0.394946</td>\n",
       "      <td>0.093303</td>\n",
       "      <td>0.066056</td>\n",
       "      <td>5.687663e+07</td>\n",
       "      <td>0.380703</td>\n",
       "      <td>0.443586</td>\n",
       "    </tr>\n",
       "    <tr>\n",
       "      <th>2021.0</th>\n",
       "      <td>YONGNAM HOLDINGS LIMITED</td>\n",
       "      <td>71</td>\n",
       "      <td>2021.0</td>\n",
       "      <td>2.595798e+08</td>\n",
       "      <td>6.673153e+07</td>\n",
       "      <td>1.896449e+08</td>\n",
       "      <td>1.906858e+08</td>\n",
       "      <td>1.146763e+08</td>\n",
       "      <td>1.165392e+08</td>\n",
       "      <td>4.512836e+04</td>\n",
       "      <td>...</td>\n",
       "      <td>19.374575</td>\n",
       "      <td>0.027514</td>\n",
       "      <td>0.730584</td>\n",
       "      <td>-2.513608</td>\n",
       "      <td>0.581912</td>\n",
       "      <td>0.078202</td>\n",
       "      <td>-0.002244</td>\n",
       "      <td>2.717399e+07</td>\n",
       "      <td>0.317394</td>\n",
       "      <td>0.448953</td>\n",
       "    </tr>\n",
       "    <tr>\n",
       "      <th>2022.0</th>\n",
       "      <td>YONGNAM HOLDINGS LIMITED</td>\n",
       "      <td>71</td>\n",
       "      <td>2022.0</td>\n",
       "      <td>2.308791e+08</td>\n",
       "      <td>6.542243e+07</td>\n",
       "      <td>1.623702e+08</td>\n",
       "      <td>1.868504e+08</td>\n",
       "      <td>1.612576e+08</td>\n",
       "      <td>1.057712e+08</td>\n",
       "      <td>-9.296445e+04</td>\n",
       "      <td>...</td>\n",
       "      <td>19.257405</td>\n",
       "      <td>0.009406</td>\n",
       "      <td>0.703270</td>\n",
       "      <td>2.244895</td>\n",
       "      <td>0.405701</td>\n",
       "      <td>0.082164</td>\n",
       "      <td>0.002840</td>\n",
       "      <td>3.845589e+07</td>\n",
       "      <td>0.309159</td>\n",
       "      <td>0.458124</td>\n",
       "    </tr>\n",
       "  </tbody>\n",
       "</table>\n",
       "<p>1728 rows × 34 columns</p>\n",
       "</div>"
      ],
      "text/plain": [
       "                                       Company  NACE    Year            TA  \\\n",
       "Company Code Year                                                            \n",
       "3            2015.0  A SONIC AEROSPACE LIMITED    26  2015.0  6.107200e+07   \n",
       "             2016.0  A SONIC AEROSPACE LIMITED    26  2016.0  6.467500e+07   \n",
       "             2017.0  A SONIC AEROSPACE LIMITED    26  2017.0  7.524600e+07   \n",
       "             2018.0  A SONIC AEROSPACE LIMITED    26  2018.0  7.359400e+07   \n",
       "             2019.0  A SONIC AEROSPACE LIMITED    26  2019.0  6.428400e+07   \n",
       "...                                        ...   ...     ...           ...   \n",
       "573          2018.0   YONGNAM HOLDINGS LIMITED    71  2018.0  3.503341e+08   \n",
       "             2019.0   YONGNAM HOLDINGS LIMITED    71  2019.0  3.429246e+08   \n",
       "             2020.0   YONGNAM HOLDINGS LIMITED    71  2020.0  2.913047e+08   \n",
       "             2021.0   YONGNAM HOLDINGS LIMITED    71  2021.0  2.595798e+08   \n",
       "             2022.0   YONGNAM HOLDINGS LIMITED    71  2022.0  2.308791e+08   \n",
       "\n",
       "                               CA            FA            TL            CL  \\\n",
       "Company Code Year                                                             \n",
       "3            2015.0  4.941900e+07  1.079300e+07  3.331800e+07  3.160000e+07   \n",
       "             2016.0  5.772600e+07  6.258000e+06  3.964200e+07  3.835100e+07   \n",
       "             2017.0  6.803700e+07  6.118000e+06  5.161200e+07  5.066000e+07   \n",
       "             2018.0  6.584300e+07  5.849000e+06  4.928100e+07  4.870300e+07   \n",
       "             2019.0  5.679200e+07  7.293000e+06  3.731000e+07  3.643600e+07   \n",
       "...                           ...           ...           ...           ...   \n",
       "573          2018.0  1.196307e+08  2.306594e+08  1.703341e+08  1.032232e+08   \n",
       "             2019.0  1.037248e+08  2.351062e+08  2.013324e+08  1.504135e+08   \n",
       "             2020.0  6.392860e+07  2.236608e+08  2.061644e+08  1.618667e+08   \n",
       "             2021.0  6.673153e+07  1.896449e+08  1.906858e+08  1.146763e+08   \n",
       "             2022.0  6.542243e+07  1.623702e+08  1.868504e+08  1.612576e+08   \n",
       "\n",
       "                             DEBT         TAXEX  ...       SIZE  \\\n",
       "Company Code Year                                ...              \n",
       "3            2015.0 -1.437900e+07  2.910000e+05  ...  17.927564   \n",
       "             2016.0 -1.338600e+07 -2.650000e+05  ...  17.984885   \n",
       "             2017.0 -1.792500e+07 -2.160000e+05  ...  18.136273   \n",
       "             2018.0 -1.906200e+07 -1.820000e+05  ...  18.114074   \n",
       "             2019.0 -1.432700e+07 -3.740000e+05  ...  17.978821   \n",
       "...                           ...           ...  ...        ...   \n",
       "573          2018.0  9.217834e+07  8.678195e+06  ...  19.674398   \n",
       "             2019.0  1.227331e+08  3.608225e+06  ...  19.653021   \n",
       "             2020.0  1.292187e+08 -4.172907e+06  ...  19.489881   \n",
       "             2021.0  1.165392e+08  4.512836e+04  ...  19.374575   \n",
       "             2022.0  1.057712e+08 -9.296445e+04  ...  19.257405   \n",
       "\n",
       "                     PROFITABILITY      TANG        RISK    LIQUID  NDTSHIELD  \\\n",
       "Company Code Year                                                               \n",
       "3            2015.0      -0.094659  0.176726  -82.603240  1.563892   0.041296   \n",
       "             2016.0      -0.010839  0.096761   12.036318  1.505202   0.012911   \n",
       "             2017.0      -0.013888  0.081307    1.605162  1.343012   0.010791   \n",
       "             2018.0       0.013371  0.079477  -20.179642  1.351929   0.010245   \n",
       "             2019.0       0.078838  0.113450 -193.544766  1.558678   0.029790   \n",
       "...                            ...       ...         ...       ...        ...   \n",
       "573          2018.0      -0.059740  0.658398   -3.777753  1.158952   0.062545   \n",
       "             2019.0      -0.033475  0.685591   -0.690731  0.689598   0.071469   \n",
       "             2020.0      -0.064894  0.767790   -0.541603  0.394946   0.093303   \n",
       "             2021.0       0.027514  0.730584   -2.513608  0.581912   0.078202   \n",
       "             2022.0       0.009406  0.703270    2.244895  0.405701   0.082164   \n",
       "\n",
       "                      TAXRATE          FCFF   GROWPOT  LEVERAGE  \n",
       "Company Code Year                                                \n",
       "3            2015.0 -0.029991  4.729897e+06  1.342854 -0.235443  \n",
       "             2016.0  0.097070  6.670989e+05  0.279433 -0.206973  \n",
       "             2017.0  0.150313  4.998374e+06  0.335075 -0.238219  \n",
       "             2018.0 -0.140108  8.313457e+05  0.378908 -0.259016  \n",
       "             2019.0 -0.173228  3.991890e+05  0.716118 -0.222870  \n",
       "...                       ...           ...       ...       ...  \n",
       "573          2018.0 -0.302336 -1.035043e+07  0.402061  0.263116  \n",
       "             2019.0 -0.099419  4.195210e+07  0.410953  0.357901  \n",
       "             2020.0  0.066056  5.687663e+07  0.380703  0.443586  \n",
       "             2021.0 -0.002244  2.717399e+07  0.317394  0.448953  \n",
       "             2022.0  0.002840  3.845589e+07  0.309159  0.458124  \n",
       "\n",
       "[1728 rows x 34 columns]"
      ]
     },
     "execution_count": 240,
     "metadata": {},
     "output_type": "execute_result"
    }
   ],
   "source": [
    "sgx = sgx.set_index(['Company Code', 'Year'], drop= False)\n",
    "\n",
    "sgx"
   ]
  },
  {
   "cell_type": "markdown",
   "metadata": {},
   "source": [
    "## Random Effects Model"
   ]
  },
  {
   "cell_type": "markdown",
   "metadata": {},
   "source": [
    "### 1-Way Random Effects Estimation"
   ]
  },
  {
   "cell_type": "markdown",
   "metadata": {},
   "source": [
    "#### 1-Way Entity Random Effects Model"
   ]
  },
  {
   "cell_type": "code",
   "execution_count": 241,
   "metadata": {},
   "outputs": [
    {
     "name": "stdout",
     "output_type": "stream",
     "text": [
      "                        RandomEffects Estimation Summary                        \n",
      "================================================================================\n",
      "Dep. Variable:               LEVERAGE   R-squared:                        0.2403\n",
      "Estimator:              RandomEffects   R-squared (Between):              0.2846\n",
      "No. Observations:                1728   R-squared (Within):               0.2318\n",
      "Date:                Mon, Apr 01 2024   R-squared (Overall):              0.2751\n",
      "Time:                        13:47:35   Log-likelihood                    1463.6\n",
      "Cov. Estimator:            Unadjusted                                           \n",
      "                                        F-statistic:                      90.746\n",
      "Entities:                         216   P-value                           0.0000\n",
      "Avg Obs:                       8.0000   Distribution:                  F(6,1721)\n",
      "Min Obs:                       8.0000                                           \n",
      "Max Obs:                       8.0000   F-statistic (robust):             90.746\n",
      "                                        P-value                           0.0000\n",
      "Time periods:                       8   Distribution:                  F(6,1721)\n",
      "Avg Obs:                       216.00                                           \n",
      "Min Obs:                       216.00                                           \n",
      "Max Obs:                       216.00                                           \n",
      "                                                                                \n",
      "                               Parameter Estimates                               \n",
      "=================================================================================\n",
      "               Parameter  Std. Err.     T-stat    P-value    Lower CI    Upper CI\n",
      "---------------------------------------------------------------------------------\n",
      "const            -0.9526     0.1189    -8.0099     0.0000     -1.1859     -0.7193\n",
      "SIZE              0.0541     0.0060     8.9957     0.0000      0.0423      0.0659\n",
      "PROFITABILITY    -0.2453     0.0366    -6.7062     0.0000     -0.3171     -0.1736\n",
      "TANG              0.3661     0.0322     11.363     0.0000      0.3029      0.4292\n",
      "LIQUID           -0.0272     0.0022    -12.520     0.0000     -0.0314     -0.0229\n",
      "MCAP          -8.208e-12  3.082e-12    -2.6633     0.0078  -1.425e-11  -2.163e-12\n",
      "SOLV             -0.0003   5.56e-05    -4.7837     0.0000     -0.0004     -0.0002\n",
      "=================================================================================\n"
     ]
    }
   ],
   "source": [
    "endo_var = 'LEVERAGE'\n",
    "exog_vars = ['SIZE',\n",
    "             'PROFITABILITY',\n",
    "             'TANG',\n",
    "             'LIQUID',\n",
    "             'MCAP',\n",
    "             'SOLV']\n",
    "\n",
    "endo = sgx[endo_var]\n",
    "exog = sm.add_constant(sgx[exog_vars])\n",
    "\n",
    "entity_re_mod = RandomEffects(endo, exog)\n",
    "\n",
    "entity_re_fit = entity_re_mod.fit()\n",
    "\n",
    "print(entity_re_fit.summary)"
   ]
  },
  {
   "cell_type": "markdown",
   "metadata": {},
   "source": [
    "#### 1-Way Time Random Effects Model"
   ]
  },
  {
   "cell_type": "code",
   "execution_count": 242,
   "metadata": {},
   "outputs": [
    {
     "name": "stdout",
     "output_type": "stream",
     "text": [
      "                        RandomEffects Estimation Summary                        \n",
      "================================================================================\n",
      "Dep. Variable:               LEVERAGE   R-squared:                        0.3621\n",
      "Estimator:              RandomEffects   R-squared (Between):              0.4626\n",
      "No. Observations:                1728   R-squared (Within):               0.3616\n",
      "Date:                Mon, Apr 01 2024   R-squared (Overall):              0.3621\n",
      "Time:                        13:47:35   Log-likelihood                    282.02\n",
      "Cov. Estimator:            Unadjusted                                           \n",
      "                                        F-statistic:                      162.81\n",
      "Entities:                           8   P-value                           0.0000\n",
      "Avg Obs:                       216.00   Distribution:                  F(6,1721)\n",
      "Min Obs:                       216.00                                           \n",
      "Max Obs:                       216.00   F-statistic (robust):             162.81\n",
      "                                        P-value                           0.0000\n",
      "Time periods:                     216   Distribution:                  F(6,1721)\n",
      "Avg Obs:                       8.0000                                           \n",
      "Min Obs:                       8.0000                                           \n",
      "Max Obs:                       8.0000                                           \n",
      "                                                                                \n",
      "                               Parameter Estimates                               \n",
      "=================================================================================\n",
      "               Parameter  Std. Err.     T-stat    P-value    Lower CI    Upper CI\n",
      "---------------------------------------------------------------------------------\n",
      "const            -0.5964     0.0628    -9.4903     0.0000     -0.7197     -0.4732\n",
      "SIZE              0.0422     0.0032     13.349     0.0000      0.0360      0.0484\n",
      "PROFITABILITY    -0.4442     0.0582    -7.6348     0.0000     -0.5583     -0.3301\n",
      "TANG              0.1932     0.0249     7.7580     0.0000      0.1444      0.2421\n",
      "LIQUID           -0.0545     0.0027    -19.867     0.0000     -0.0599     -0.0491\n",
      "MCAP          -8.842e-12   1.85e-12    -4.7783     0.0000  -1.247e-11  -5.213e-12\n",
      "SOLV             -0.0007  7.042e-05    -9.6952     0.0000     -0.0008     -0.0005\n",
      "=================================================================================\n"
     ]
    }
   ],
   "source": [
    "sgx = sgx.swaplevel('Year', 'Company Code')\n",
    "\n",
    "endo_var = 'LEVERAGE'\n",
    "exog_vars = ['SIZE',\n",
    "             'PROFITABILITY',\n",
    "             'TANG',\n",
    "             'LIQUID',\n",
    "             'MCAP',\n",
    "             'SOLV']\n",
    "\n",
    "endo = sgx[endo_var]\n",
    "exog = sm.add_constant(sgx[exog_vars])\n",
    "\n",
    "time_re_mod = RandomEffects(endo, exog)\n",
    "\n",
    "time_re_fit = time_re_mod.fit()\n",
    "\n",
    "print(time_re_fit.summary)"
   ]
  },
  {
   "cell_type": "markdown",
   "metadata": {},
   "source": [
    "### 2-Way Random Effects Model"
   ]
  },
  {
   "cell_type": "markdown",
   "metadata": {},
   "source": [
    "### Feasible Generalised Least Square Estimator"
   ]
  },
  {
   "cell_type": "code",
   "execution_count": 243,
   "metadata": {},
   "outputs": [],
   "source": [
    "def get_weighting_matrix(time_panels: pd.Series, entity_panels: pd.Series):\n",
    "    t = time_panels.nunique()\n",
    "    n = entity_panels.nunique()\n",
    "    \n",
    "    J_n_bar = (1 / n) * np.ones(shape = (n, n))\n",
    "    J_t_bar = (1 / t) * np.ones(shape = (t, t))\n",
    "    I_n = np.identity(n = n)\n",
    "    I_t = np.identity(n = t)\n",
    "\n",
    "    E_n = I_n - J_n_bar\n",
    "    E_t = I_t - J_t_bar\n",
    "\n",
    "    Q_1 = np.kron(E_n, E_t)\n",
    "    Q_2 = np.kron(E_n, J_t_bar)\n",
    "    Q_3 = np.kron(J_n_bar, E_t)\n",
    "    Q_4 = np.kron(J_n_bar, J_t_bar)\n",
    "    \n",
    "    return np.array([Q_1, Q_2, Q_3, Q_4])\n",
    "\n",
    "def get_omega_i(weighting_matrix: np.array, resid: np.array):\n",
    "\n",
    "    w_1 = (resid.T @ weighting_matrix[0] @ resid) / np.trace(weighting_matrix[0])\n",
    "    w_2 = (resid.T @ weighting_matrix[1] @ resid) / np.trace(weighting_matrix[1])\n",
    "    w_3 = (resid.T @ weighting_matrix[2] @ resid) / np.trace(weighting_matrix[2])\n",
    "    w_4 = w_2 + w_3 - w_1\n",
    "\n",
    "    return np.array([w_1, w_2, w_3, w_4])\n",
    "\n",
    "def get_rcorr_matrix(omega_matrix: np.array, weighting_matrix: np.array):\n",
    "    omega = omega_matrix\n",
    "    weight = weighting_matrix\n",
    "    return omega[0] * weight[0] + omega[1] * weight[1] + omega[2] * weight[2] + omega[3] * weight[3]\n",
    "\n",
    "def TwoWayRandomEffects(Y: pd.Series, X: Union[pd.Series, pd.DataFrame], entity_panel: pd.Series, time_panel: pd.Series, epsilon: float= 0.0001, maxiter: int= 99):\n",
    "    # Step 1: Run OLS of Y on X\n",
    "    ols = sm.OLS(Y, X)\n",
    "    residuals = ols.fit().resid\n",
    "    # Step 2: Get OLS weighting matrix\n",
    "    weight_matrix = get_weighting_matrix(time_panels= time_panel, entity_panels= entity_panel)\n",
    "    omega_matrix = get_omega_i(weight_matrix, residuals)\n",
    "    OMEGA = get_rcorr_matrix(omega_matrix, weight_matrix)\n",
    "    \n",
    "    # Step 3: Get GLS residuals using weighting matrix\n",
    "    gls = sm.GLS(endog= Y, exog= X, sigma= OMEGA)\n",
    "    gls_residuals = gls.fit().resid\n",
    "    # Step 4: Update GLS weighting matrix\n",
    "    weight_matrix = get_weighting_matrix(time_panels= time_panel, entity_panels= entity_panel)\n",
    "    omega_matrix = get_omega_i(weight_matrix, gls_residuals)\n",
    "    OMEGA = get_rcorr_matrix(omega_matrix, weight_matrix)\n",
    "    # Step 5: Update GLS coefficient estimates\n",
    "    init_gls = ols ## Initial GLS model\n",
    "    iter_gls = sm.GLS(endog= Y, exog= X, sigma= OMEGA) ## Updated GLS model\n",
    "\n",
    "    i = 1\n",
    "    while np.max(abs(init_gls.fit().params - iter_gls.fit().params)) >= epsilon: ## If there is a significant difference in the model estimates, re-run the refining steps\n",
    "        init_gls = iter_gls ## Set the initial GLS model to the most updated model\n",
    "        # Step 3: Get GLS residuals using weighting matrix\n",
    "        gls = sm.GLS(endog= Y, exog= X, sigma= OMEGA)\n",
    "        gls_residuals = gls.fit().resid\n",
    "        # Step 4: Update GLS weighting matrix\n",
    "        weight_matrix = get_weighting_matrix(time_panels= time_panel, entity_panels= entity_panel)\n",
    "        omega_matrix = get_omega_i(weight_matrix, gls_residuals)\n",
    "        OMEGA = get_rcorr_matrix(omega_matrix, weight_matrix)\n",
    "        # Step 5: Update GLS coefficient estimates\n",
    "        iter_gls = sm.GLS(endog= Y, exog= X, sigma= OMEGA) ## Produce an updated GLS model\n",
    "        i += 1\n",
    "        if i == maxiter:\n",
    "            print(f\"Maximum of {maxiter} iterations reached before model convergence was achieved.\")\n",
    "            break\n",
    "\n",
    "    print(f\"{i} iterations of GLS re-specification performed\")\n",
    "    return gls"
   ]
  },
  {
   "cell_type": "code",
   "execution_count": 244,
   "metadata": {},
   "outputs": [
    {
     "name": "stdout",
     "output_type": "stream",
     "text": [
      "4 iterations of GLS re-specification performed\n",
      "                            GLS Regression Results                            \n",
      "==============================================================================\n",
      "Dep. Variable:               LEVERAGE   R-squared:                       0.233\n",
      "Model:                            GLS   Adj. R-squared:                  0.230\n",
      "Method:                 Least Squares   F-statistic:                     87.09\n",
      "Date:                Mon, 01 Apr 2024   Prob (F-statistic):           1.66e-95\n",
      "Time:                        13:47:37   Log-Likelihood:                 1128.2\n",
      "No. Observations:                1728   AIC:                            -2242.\n",
      "Df Residuals:                    1721   BIC:                            -2204.\n",
      "Df Model:                           6                                         \n",
      "Covariance Type:            nonrobust                                         \n",
      "=================================================================================\n",
      "                    coef    std err          t      P>|t|      [0.025      0.975]\n",
      "---------------------------------------------------------------------------------\n",
      "const            -0.9715      0.127     -7.655      0.000      -1.220      -0.723\n",
      "SIZE              0.0550      0.006      8.583      0.000       0.042       0.068\n",
      "PROFITABILITY    -0.2443      0.036     -6.763      0.000      -0.315      -0.173\n",
      "TANG              0.3623      0.033     11.072      0.000       0.298       0.426\n",
      "LIQUID           -0.0265      0.002    -12.331      0.000      -0.031      -0.022\n",
      "MCAP          -7.402e-12   3.19e-12     -2.321      0.020   -1.37e-11   -1.15e-12\n",
      "SOLV             -0.0002   5.49e-05     -4.398      0.000      -0.000      -0.000\n",
      "==============================================================================\n",
      "Omnibus:                      132.043   Durbin-Watson:                   1.111\n",
      "Prob(Omnibus):                  0.000   Jarque-Bera (JB):              659.230\n",
      "Skew:                           0.126   Prob(JB):                    7.08e-144\n",
      "Kurtosis:                       6.015   Cond. No.                     4.28e+10\n",
      "==============================================================================\n",
      "\n",
      "Notes:\n",
      "[1] Standard Errors assume that the covariance matrix of the errors is correctly specified.\n",
      "[2] The condition number is large, 4.28e+10. This might indicate that there are\n",
      "strong multicollinearity or other numerical problems.\n"
     ]
    }
   ],
   "source": [
    "sgx = sgx.swaplevel('Company Code', 'Year')\n",
    "\n",
    "endo_var = 'LEVERAGE'\n",
    "exog_vars = ['SIZE',\n",
    "             'PROFITABILITY',\n",
    "             'TANG',\n",
    "             'LIQUID',\n",
    "             'MCAP',\n",
    "             'SOLV']\n",
    "\n",
    "endo = sgx[endo_var]\n",
    "exog = sm.add_constant(sgx[exog_vars])\n",
    "\n",
    "entity_panel = sgx['Company Code']\n",
    "time_panel = sgx['Year']\n",
    "\n",
    "tw_re_mod = TwoWayRandomEffects(endo, exog, entity_panel, time_panel)\n",
    "\n",
    "tw_re_fit = tw_re_mod.fit()\n",
    "\n",
    "print(tw_re_fit.summary())"
   ]
  },
  {
   "cell_type": "markdown",
   "metadata": {},
   "source": [
    "### Test for significance of Random Effects"
   ]
  },
  {
   "cell_type": "markdown",
   "metadata": {},
   "source": [
    "#### Lagrange Multiplier Test"
   ]
  },
  {
   "cell_type": "code",
   "execution_count": 245,
   "metadata": {},
   "outputs": [],
   "source": [
    "def cond_LM_stat(restricted_model: PanelResults, how: str): \n",
    "    T = restricted_model.time_info.total.astype('int')\n",
    "    n = restricted_model.entity_info.total.astype('int')\n",
    "\n",
    "    J_n = np.ones(shape = (n, n))\n",
    "    J_T = np.ones(shape = (T, T))\n",
    "\n",
    "    I_n = np.identity(n = n)\n",
    "    I_T = np.identity(n = T)\n",
    "\n",
    "    u_tilda = restricted_model.resids\n",
    "    \n",
    "    if how.lower() == 'entity':\n",
    "        LM_C_entity = ((n * T) / (2 * (T - 1))) * (1 - ((u_tilda.T @ np.kron(I_n, J_T) @ u_tilda) / (u_tilda.T @ u_tilda))) ** 2\n",
    "        return LM_C_entity\n",
    "    elif how.lower() == 'time':\n",
    "        LM_C_time = ((n * T) / (2 * (n - 1))) * (1 - ((u_tilda.T @ np.kron(J_n, I_T) @ u_tilda) / (u_tilda.T @ u_tilda))) ** 2\n",
    "        return LM_C_time\n",
    "    else:\n",
    "        raise ValueError(f\"'how' parameter should be either 'Entity' or 'Time' and not {how}.\")\n",
    "    \n",
    "def marg_LM_stat(restricted_model: RandomEffectsResults, how: str): \n",
    "    if how.lower() == 'time':    \n",
    "        T = restricted_model.time_info.total.astype('int')\n",
    "        n = restricted_model.entity_info.total.astype('int')\n",
    "    elif how.lower() == 'entity':\n",
    "        n = restricted_model.time_info.total.astype('int')\n",
    "        T = restricted_model.entity_info.total.astype('int')\n",
    "    else:\n",
    "        raise ValueError(f\"'how' parameter should be either 'Entity' or 'Time' and not {how}.\")\n",
    "\n",
    "    J_n = np.ones(shape = (n, n))\n",
    "    J_T = np.ones(shape = (T, T))\n",
    "    \n",
    "    J_n_bar = (1 / n) * J_n\n",
    "    J_T_bar = (1 / T) * J_T\n",
    "\n",
    "    I_n = np.identity(n = n)\n",
    "    I_T = np.identity(n = T)\n",
    "\n",
    "    E_n = I_n - J_n_bar\n",
    "    E_T = I_T - J_T_bar\n",
    "\n",
    "    u_tilda = restricted_model.resids\n",
    "\n",
    "    if how.lower() == 'entity':\n",
    "        sigma_v_sq = (1 / T*(n - 1)) * u_tilda.T @ np.kron(E_n, I_T) @ u_tilda\n",
    "        sigma_2_sq = (1 / T) * u_tilda.T @ np.kron(J_n_bar, I_T) @ u_tilda\n",
    "\n",
    "        Q_1 = (1 / sigma_2_sq) * u_tilda.T @ np.kron(J_n_bar, J_T_bar) @ u_tilda\n",
    "        Q_2 = (1 / (n - 1)*sigma_v_sq) * u_tilda.T @ np.kron(E_n, J_T_bar) @ u_tilda\n",
    "\n",
    "        LM_M_entity = ((np.sqrt(2) * sigma_2_sq * sigma_v_sq) / np.sqrt(T * (T - 1) * (sigma_v_sq ** 2 + (n - 1) * sigma_2_sq ** 2))) *\\\n",
    "             ((1/sigma_2_sq) * (Q_1 - 1) + ((n-1) / sigma_v_sq) * (Q_2 - 1))\n",
    "        \n",
    "        return LM_M_entity\n",
    "    \n",
    "    else:\n",
    "        sigma_v_sq = (1 / n*(T - 1)) * u_tilda.T @ np.kron(I_n, E_T) @ u_tilda\n",
    "        sigma_1_sq = (1 / n) * u_tilda.T @ np.kron(I_n, J_T_bar) @ u_tilda\n",
    "\n",
    "        R_1 = (1 / sigma_1_sq) * u_tilda.T @ np.kron(J_T_bar, J_n_bar) @ u_tilda\n",
    "        R_2 = (1 / (T - 1)*sigma_v_sq) * u_tilda.T @ np.kron(J_n_bar, E_T) @ u_tilda\n",
    "\n",
    "        LM_M_time = ((np.sqrt(2) * sigma_1_sq * sigma_v_sq) / np.sqrt(n * (n - 1) * (sigma_v_sq ** 2 + (T - 1) * sigma_1_sq ** 2))) *\\\n",
    "             ((1/sigma_1_sq) * (R_1 - 1) + ((T-1) / sigma_v_sq) * (R_2 - 1))\n",
    "        \n",
    "        return LM_M_time\n",
    "\n",
    "def joint_LM_stat(restricted_model: PanelResults): \n",
    "    return cond_LM_stat(restricted_model, 'Entity') + cond_LM_stat(restricted_model, 'Time')"
   ]
  },
  {
   "cell_type": "markdown",
   "metadata": {},
   "source": [
    "#### Joint LM-Test"
   ]
  },
  {
   "cell_type": "code",
   "execution_count": 246,
   "metadata": {},
   "outputs": [],
   "source": [
    "pooled_ols_res = load_pickle('model/pooled_ols.pickle')"
   ]
  },
  {
   "cell_type": "code",
   "execution_count": 247,
   "metadata": {},
   "outputs": [
    {
     "name": "stdout",
     "output_type": "stream",
     "text": [
      "Joint LM Statistic for 2-way Random Effects: 2931.477025018793\n",
      "p-value of Joint LM test for 2-way Random Effects: 0.0\n"
     ]
    }
   ],
   "source": [
    "joint_stat = joint_LM_stat(pooled_ols_res)\n",
    "\n",
    "joint_p = 1 - stats.chi2.cdf(joint_stat, 1)\n",
    "\n",
    "print(f\"Joint LM Statistic for 2-way Random Effects: {joint_stat}\")\n",
    "print(f\"p-value of Joint LM test for 2-way Random Effects: {joint_p}\")\n"
   ]
  },
  {
   "cell_type": "markdown",
   "metadata": {},
   "source": [
    "#### Conditional LM-Test for Entity Random Effect"
   ]
  },
  {
   "cell_type": "code",
   "execution_count": 248,
   "metadata": {},
   "outputs": [
    {
     "name": "stdout",
     "output_type": "stream",
     "text": [
      "Conditional LM Statistic for Entity Random Effects: 2931.4558135603897\n",
      "p-value of Conditional LM test for Entity Random ffects: 0.0\n"
     ]
    }
   ],
   "source": [
    "cond_entity_stat = cond_LM_stat(pooled_ols_res, how= 'entity')\n",
    "\n",
    "cond_entity_p = 1 - stats.chi2.cdf(cond_entity_stat, 1)\n",
    "\n",
    "print(f\"Conditional LM Statistic for Entity Random Effects: {cond_entity_stat}\")\n",
    "print(f\"p-value of Conditional LM test for Entity Random ffects: {cond_entity_p}\")\n"
   ]
  },
  {
   "cell_type": "markdown",
   "metadata": {},
   "source": [
    "#### Conditional LM-Test for Time Random Effect"
   ]
  },
  {
   "cell_type": "code",
   "execution_count": 249,
   "metadata": {},
   "outputs": [
    {
     "name": "stdout",
     "output_type": "stream",
     "text": [
      "Conditional LM Statistic for Time Random Effects: 0.021211458403447795\n",
      "p-value of Conditional LM test for Time Random Effects: 0.8842043727981699\n"
     ]
    }
   ],
   "source": [
    "cond_time_stat = cond_LM_stat(pooled_ols_res, how= 'time')\n",
    "\n",
    "cond_time_p = 1 - stats.chi2.cdf(cond_time_stat, 1)\n",
    "\n",
    "print(f\"Conditional LM Statistic for Time Random Effects: {cond_time_stat}\")\n",
    "print(f\"p-value of Conditional LM test for Time Random Effects: {cond_time_p}\")"
   ]
  },
  {
   "cell_type": "markdown",
   "metadata": {},
   "source": [
    "#### Marginal LM-Test for Entity Random Effect"
   ]
  },
  {
   "cell_type": "code",
   "execution_count": 250,
   "metadata": {},
   "outputs": [
    {
     "name": "stdout",
     "output_type": "stream",
     "text": [
      "Marginal LM Statistic for Entity Random Effects: 0.20697645959347585\n",
      "p-value of Marginal LM test for Entity Random ffects: 0.6491476164436869\n"
     ]
    }
   ],
   "source": [
    "marg_entity_stat = marg_LM_stat(time_re_fit, how= 'entity')\n",
    "\n",
    "marg_entity_p = 1 - stats.chi2.cdf(marg_entity_stat, 1)\n",
    "\n",
    "print(f\"Marginal LM Statistic for Entity Random Effects: {marg_entity_stat}\")\n",
    "print(f\"p-value of Marginal LM test for Entity Random ffects: {marg_entity_p}\")"
   ]
  },
  {
   "cell_type": "code",
   "execution_count": 251,
   "metadata": {},
   "outputs": [
    {
     "name": "stdout",
     "output_type": "stream",
     "text": [
      "Marginal LM Statistic for Time Random Effects: -0.0076970396045147734\n",
      "p-value of Marginal LM test for Time Random ffects: 0.0\n"
     ]
    }
   ],
   "source": [
    "marg_time_stat = marg_LM_stat(entity_re_fit, how= 'time')\n",
    "\n",
    "marg_time_p = stats.chi2.cdf(marg_time_stat, 1)\n",
    "\n",
    "print(f\"Marginal LM Statistic for Time Random Effects: {marg_time_stat}\")\n",
    "print(f\"p-value of Marginal LM test for Time Random ffects: {marg_time_p}\")"
   ]
  },
  {
   "cell_type": "markdown",
   "metadata": {},
   "source": [
    "From the results of the LM-test, only the joint LM and conditional LM test for entity effects were significant. However, the significance of the joint LM test is powered by the significance of the conditional LM test for entity as can be seen from the insignificance of the marginal LM tests. Thus, we should strongly consider the 1-way entity random effects model over the 2-way random effects model."
   ]
  },
  {
   "cell_type": "markdown",
   "metadata": {},
   "source": [
    "#### Log-Likelihood Ratio Test"
   ]
  },
  {
   "cell_type": "code",
   "execution_count": 252,
   "metadata": {},
   "outputs": [],
   "source": [
    "def lr_test(restricted_model: PanelResults|RandomEffectsResults|PanelEffectsResults, unrestricted_model: PanelResults|RandomEffectsResults|PanelEffectsResults, df: int= 1):\n",
    "    try:\n",
    "        res_loglik = restricted_model.loglik\n",
    "    except:\n",
    "        res_loglik = restricted_model.llf\n",
    "\n",
    "    try:\n",
    "        unres_loglik = unrestricted_model.loglik\n",
    "    except:\n",
    "        unres_loglik = unrestricted_model.llf\n",
    "\n",
    "\n",
    "    lr_stat = -2 * (res_loglik - unres_loglik)\n",
    "        \n",
    "    lr_p = 1 - stats.chi2.cdf(lr_stat, df)\n",
    "\n",
    "    print(f\"Log-Likelihood Test Statistic: {lr_stat}\")\n",
    "    print(f\"Log-Likelihood Test Statistic: {lr_p}\")\n"
   ]
  },
  {
   "cell_type": "markdown",
   "metadata": {},
   "source": [
    "#### Conditional Entity LR Test"
   ]
  },
  {
   "cell_type": "code",
   "execution_count": 253,
   "metadata": {},
   "outputs": [
    {
     "name": "stdout",
     "output_type": "stream",
     "text": [
      "Log-Likelihood Test Statistic: 2363.2277405169125\n",
      "Log-Likelihood Test Statistic: 0.0\n"
     ]
    }
   ],
   "source": [
    "lr_test(pooled_ols_res, entity_re_fit, 1)"
   ]
  },
  {
   "cell_type": "markdown",
   "metadata": {},
   "source": [
    "#### Conditional Time LR Test"
   ]
  },
  {
   "cell_type": "code",
   "execution_count": 254,
   "metadata": {},
   "outputs": [
    {
     "name": "stdout",
     "output_type": "stream",
     "text": [
      "Log-Likelihood Test Statistic: -0.0\n",
      "Log-Likelihood Test Statistic: 1.0\n"
     ]
    }
   ],
   "source": [
    "lr_test(pooled_ols_res, time_re_fit, 1)"
   ]
  },
  {
   "cell_type": "markdown",
   "metadata": {},
   "source": [
    "#### Joint LR Test"
   ]
  },
  {
   "cell_type": "code",
   "execution_count": 255,
   "metadata": {},
   "outputs": [
    {
     "name": "stdout",
     "output_type": "stream",
     "text": [
      "Log-Likelihood Test Statistic: 1692.3510468266113\n",
      "Log-Likelihood Test Statistic: 0.0\n"
     ]
    }
   ],
   "source": [
    "lr_test(pooled_ols_res, tw_re_fit, 2)"
   ]
  },
  {
   "cell_type": "markdown",
   "metadata": {},
   "source": [
    "#### Conditional Time LR Test"
   ]
  },
  {
   "cell_type": "code",
   "execution_count": 256,
   "metadata": {},
   "outputs": [
    {
     "name": "stdout",
     "output_type": "stream",
     "text": [
      "Log-Likelihood Test Statistic: -670.8766936903012\n",
      "Log-Likelihood Test Statistic: 1.0\n"
     ]
    }
   ],
   "source": [
    "lr_test(entity_re_fit, tw_re_fit, 1)"
   ]
  },
  {
   "cell_type": "markdown",
   "metadata": {},
   "source": [
    "#### Conditional Time LR Test"
   ]
  },
  {
   "cell_type": "code",
   "execution_count": 257,
   "metadata": {},
   "outputs": [
    {
     "name": "stdout",
     "output_type": "stream",
     "text": [
      "Log-Likelihood Test Statistic: 1692.3510468266113\n",
      "Log-Likelihood Test Statistic: 0.0\n"
     ]
    }
   ],
   "source": [
    "lr_test(time_re_fit, tw_re_fit, 1)"
   ]
  },
  {
   "cell_type": "markdown",
   "metadata": {},
   "source": [
    "### Correlated Random Effects Model"
   ]
  },
  {
   "cell_type": "markdown",
   "metadata": {},
   "source": [
    "#### Correlated Entity Random Effects Model"
   ]
  },
  {
   "cell_type": "code",
   "execution_count": 258,
   "metadata": {},
   "outputs": [
    {
     "name": "stdout",
     "output_type": "stream",
     "text": [
      "                        RandomEffects Estimation Summary                        \n",
      "================================================================================\n",
      "Dep. Variable:               LEVERAGE   R-squared:                        0.2733\n",
      "Estimator:              RandomEffects   R-squared (Between):              0.4508\n",
      "No. Observations:                1728   R-squared (Within):               0.2401\n",
      "Date:                Mon, Apr 01 2024   R-squared (Overall):              0.4129\n",
      "Time:                        13:47:37   Log-likelihood                    1505.4\n",
      "Cov. Estimator:            Unadjusted                                           \n",
      "                                        F-statistic:                      53.744\n",
      "Entities:                         216   P-value                           0.0000\n",
      "Avg Obs:                       8.0000   Distribution:                 F(12,1715)\n",
      "Min Obs:                       8.0000                                           \n",
      "Max Obs:                       8.0000   F-statistic (robust):             53.744\n",
      "                                        P-value                           0.0000\n",
      "Time periods:                       8   Distribution:                 F(12,1715)\n",
      "Avg Obs:                       216.00                                           \n",
      "Min Obs:                       216.00                                           \n",
      "Max Obs:                       216.00                                           \n",
      "                                                                                \n",
      "                                Parameter Estimates                                 \n",
      "====================================================================================\n",
      "                  Parameter  Std. Err.     T-stat    P-value    Lower CI    Upper CI\n",
      "------------------------------------------------------------------------------------\n",
      "const               -0.5374     0.1571    -3.4219     0.0006     -0.8454     -0.2294\n",
      "SIZE                 0.0834     0.0103     8.1070     0.0000      0.0632      0.1036\n",
      "PROFITABILITY       -0.2270     0.0363    -6.2519     0.0000     -0.2983     -0.1558\n",
      "TANG                 0.4346     0.0364     11.927     0.0000      0.3631      0.5060\n",
      "LIQUID              -0.0228     0.0022    -10.324     0.0000     -0.0271     -0.0184\n",
      "MCAP             -4.195e-12   4.13e-12    -1.0156     0.3100   -1.23e-11   3.907e-12\n",
      "SOLV                -0.0002  5.636e-05    -3.4748     0.0005     -0.0003  -8.531e-05\n",
      "avgSIZE             -0.0413     0.0130    -3.1873     0.0015     -0.0667     -0.0159\n",
      "avgPROFITABILITY    -0.5395     0.2383    -2.2640     0.0237     -1.0069     -0.0721\n",
      "avgTANG             -0.2530     0.0756    -3.3445     0.0008     -0.4014     -0.1046\n",
      "avgLIQUID           -0.0482     0.0089    -5.4453     0.0000     -0.0656     -0.0309\n",
      "avgMCAP          -4.719e-12  6.212e-12    -0.7596     0.4476   -1.69e-11   7.465e-12\n",
      "avgSOLV             -0.0006     0.0002    -2.5336     0.0114     -0.0010     -0.0001\n",
      "====================================================================================\n"
     ]
    }
   ],
   "source": [
    "endo_var = 'LEVERAGE'\n",
    "exog_vars = ['SIZE',\n",
    "             'PROFITABILITY',\n",
    "             'TANG',\n",
    "             'LIQUID',\n",
    "             'MCAP',\n",
    "             'SOLV']\n",
    "\n",
    "sgx = sgx.reset_index(drop= True).set_index(['Company Code', 'Year'], drop= False)\n",
    "\n",
    "endo = sgx[endo_var]\n",
    "\n",
    "mean_exog_vars = ['avg' + var for var in exog_vars]\n",
    "sgx[mean_exog_vars] = sgx[exog_vars].groupby(level= 'Company Code').transform('mean')\n",
    "exog = sm.add_constant(sgx[exog_vars + mean_exog_vars])\n",
    "sgx.drop(columns= mean_exog_vars)\n",
    "\n",
    "entity_cre_mod = RandomEffects(endo, exog)\n",
    "\n",
    "entity_cre_fit = entity_cre_mod.fit()\n",
    "\n",
    "print(entity_cre_fit.summary)"
   ]
  },
  {
   "cell_type": "markdown",
   "metadata": {},
   "source": [
    "#### Correlated Time Random Effects Model"
   ]
  },
  {
   "cell_type": "code",
   "execution_count": 259,
   "metadata": {},
   "outputs": [
    {
     "name": "stdout",
     "output_type": "stream",
     "text": [
      "                        RandomEffects Estimation Summary                        \n",
      "================================================================================\n",
      "Dep. Variable:               LEVERAGE   R-squared:                        0.3648\n",
      "Estimator:              RandomEffects   R-squared (Between):              0.9970\n",
      "No. Observations:                1728   R-squared (Within):               0.3616\n",
      "Date:                Mon, Apr 01 2024   R-squared (Overall):              0.3648\n",
      "Time:                        13:47:37   Log-likelihood                    285.75\n",
      "Cov. Estimator:            Unadjusted                                           \n",
      "                                        F-statistic:                      82.090\n",
      "Entities:                           8   P-value                           0.0000\n",
      "Avg Obs:                       216.00   Distribution:                 F(12,1715)\n",
      "Min Obs:                       216.00                                           \n",
      "Max Obs:                       216.00   F-statistic (robust):             82.092\n",
      "                                        P-value                           0.0000\n",
      "Time periods:                     216   Distribution:                 F(12,1715)\n",
      "Avg Obs:                       8.0000                                           \n",
      "Min Obs:                       8.0000                                           \n",
      "Max Obs:                       8.0000                                           \n",
      "                                                                                \n",
      "                                Parameter Estimates                                 \n",
      "====================================================================================\n",
      "                  Parameter  Std. Err.     T-stat    P-value    Lower CI    Upper CI\n",
      "------------------------------------------------------------------------------------\n",
      "const               -0.3102     5.9812    -0.0519     0.9586     -12.041      11.421\n",
      "SIZE                 0.0419     0.0032     13.249     0.0000      0.0357      0.0481\n",
      "PROFITABILITY       -0.4509     0.0585    -7.7133     0.0000     -0.5656     -0.3363\n",
      "TANG                 0.1898     0.0249     7.6139     0.0000      0.1409      0.2387\n",
      "LIQUID              -0.0547     0.0027    -19.909     0.0000     -0.0601     -0.0493\n",
      "MCAP             -8.712e-12  1.851e-12    -4.7068     0.0000  -1.234e-11  -5.082e-12\n",
      "SOLV                -0.0007  7.054e-05    -9.5438     0.0000     -0.0008     -0.0005\n",
      "avgSIZE             -0.0270     0.3157    -0.0855     0.9318     -0.6462      0.5922\n",
      "avgPROFITABILITY     0.7095     2.2206     0.3195     0.7494     -3.6458      5.0649\n",
      "avgTANG              1.0514     0.8394     1.2526     0.2105     -0.5949      2.6978\n",
      "avgLIQUID           -0.0287     0.0805    -0.3561     0.7218     -0.1866      0.1292\n",
      "avgMCAP           2.851e-12  1.203e-10     0.0237     0.9811  -2.332e-10   2.389e-10\n",
      "avgSOLV             -0.0004     0.0025    -0.1436     0.8858     -0.0052      0.0045\n",
      "====================================================================================\n"
     ]
    }
   ],
   "source": [
    "endo_var = 'LEVERAGE'\n",
    "exog_vars = ['SIZE',\n",
    "             'PROFITABILITY',\n",
    "             'TANG',\n",
    "             'LIQUID',\n",
    "             'MCAP',\n",
    "             'SOLV']\n",
    "\n",
    "sgx = sgx.reset_index(drop= True).set_index(['Year', 'Company Code'], drop= False)\n",
    "\n",
    "endo = sgx[endo_var]\n",
    "\n",
    "mean_exog_vars = ['avg' + var for var in exog_vars]\n",
    "sgx[mean_exog_vars] = sgx[exog_vars].groupby(level= 'Year').transform('mean')\n",
    "exog = sm.add_constant(sgx[exog_vars + mean_exog_vars])\n",
    "sgx.drop(columns= mean_exog_vars)\n",
    "\n",
    "time_cre_mod = RandomEffects(endo, exog, check_rank= False)\n",
    "\n",
    "time_cre_fit = time_cre_mod.fit()\n",
    "\n",
    "print(time_cre_fit.summary)"
   ]
  },
  {
   "cell_type": "markdown",
   "metadata": {},
   "source": [
    "#### Correlated 2-Way Random Effects Model"
   ]
  },
  {
   "cell_type": "code",
   "execution_count": 260,
   "metadata": {},
   "outputs": [
    {
     "name": "stdout",
     "output_type": "stream",
     "text": [
      "2 iterations of GLS re-specification performed\n",
      "                            GLS Regression Results                            \n",
      "==============================================================================\n",
      "Dep. Variable:               LEVERAGE   R-squared:                       0.269\n",
      "Model:                            GLS   Adj. R-squared:                  0.264\n",
      "Method:                 Least Squares   F-statistic:                     52.54\n",
      "Date:                Mon, 01 Apr 2024   Prob (F-statistic):          1.41e-107\n",
      "Time:                        13:47:38   Log-Likelihood:                 1164.0\n",
      "No. Observations:                1728   AIC:                            -2302.\n",
      "Df Residuals:                    1715   BIC:                            -2231.\n",
      "Df Model:                          12                                         \n",
      "Covariance Type:            nonrobust                                         \n",
      "====================================================================================\n",
      "                       coef    std err          t      P>|t|      [0.025      0.975]\n",
      "------------------------------------------------------------------------------------\n",
      "const               -0.5374      0.154     -3.496      0.000      -0.839      -0.236\n",
      "SIZE                 0.0823      0.010      7.851      0.000       0.062       0.103\n",
      "PROFITABILITY       -0.2281      0.036     -6.256      0.000      -0.300      -0.157\n",
      "TANG                 0.4175      0.037     11.357      0.000       0.345       0.490\n",
      "LIQUID              -0.0228      0.002    -10.311      0.000      -0.027      -0.018\n",
      "MCAP             -3.562e-12   4.14e-12     -0.860      0.390   -1.17e-11    4.56e-12\n",
      "SOLV                -0.0002   5.64e-05     -3.317      0.001      -0.000   -7.64e-05\n",
      "avgSIZE             -0.0401      0.013     -3.086      0.002      -0.066      -0.015\n",
      "avgPROFITABILITY    -0.5384      0.233     -2.308      0.021      -0.996      -0.081\n",
      "avgTANG             -0.2360      0.075     -3.165      0.002      -0.382      -0.090\n",
      "avgLIQUID           -0.0482      0.009     -5.552      0.000      -0.065      -0.031\n",
      "avgMCAP          -5.352e-12   6.14e-12     -0.871      0.384   -1.74e-11     6.7e-12\n",
      "avgSOLV             -0.0006      0.000     -2.625      0.009      -0.001      -0.000\n",
      "==============================================================================\n",
      "Omnibus:                      118.504   Durbin-Watson:                   1.107\n",
      "Prob(Omnibus):                  0.000   Jarque-Bera (JB):              561.355\n",
      "Skew:                           0.028   Prob(JB):                    1.27e-122\n",
      "Kurtosis:                       5.792   Cond. No.                     9.88e+10\n",
      "==============================================================================\n",
      "\n",
      "Notes:\n",
      "[1] Standard Errors assume that the covariance matrix of the errors is correctly specified.\n",
      "[2] The condition number is large, 9.88e+10. This might indicate that there are\n",
      "strong multicollinearity or other numerical problems.\n"
     ]
    }
   ],
   "source": [
    "endo_var = 'LEVERAGE'\n",
    "exog_vars = ['SIZE',\n",
    "             'PROFITABILITY',\n",
    "             'TANG',\n",
    "             'LIQUID',\n",
    "             'MCAP',\n",
    "             'SOLV']\n",
    "\n",
    "sgx = sgx.reset_index(drop= True).set_index(['Company Code', 'Year'], drop= False)\n",
    "\n",
    "endo = sgx[endo_var]\n",
    "\n",
    "mean_exog_vars = ['avg' + var for var in exog_vars]\n",
    "sgx[mean_exog_vars] = sgx[exog_vars].groupby(level= 'Company Code').transform('mean')\n",
    "exog = sm.add_constant(sgx[exog_vars + mean_exog_vars])\n",
    "sgx.drop(columns= mean_exog_vars)\n",
    "\n",
    "entity_panel, time_panel = sgx['Company Code'], sgx['Year']\n",
    "\n",
    "tw_cre_mod = TwoWayRandomEffects(endo, exog, entity_panel, time_panel)\n",
    "\n",
    "tw_cre_fit = tw_cre_mod.fit()\n",
    "\n",
    "print(tw_cre_fit.summary())"
   ]
  },
  {
   "cell_type": "markdown",
   "metadata": {},
   "source": [
    "## Hausman Test"
   ]
  },
  {
   "cell_type": "code",
   "execution_count": 261,
   "metadata": {},
   "outputs": [],
   "source": [
    "def hausman_test(fixed_effects: PanelEffectsResults, random_effects: RandomEffectsResults|RegressionResults):    \n",
    "    # (I) find overlapping coefficients:\n",
    "    common_coef = list(set(fixed_effects.params.index).intersection(random_effects.params.index))\n",
    "\n",
    "    # (II) calculate differences between FE and RE:\n",
    "    b_diff = np.array(fixed_effects.params[common_coef] - random_effects.params[common_coef])\n",
    "    df = len(b_diff)\n",
    "    b_diff.reshape((df, 1))\n",
    "    \n",
    "    b_fe_cov = fixed_effects.cov\n",
    "    try:\n",
    "        b_re_cov = random_effects.cov\n",
    "    except:\n",
    "        b_re_cov = random_effects.cov_params()\n",
    "\n",
    "    b_cov_diff = np.array(b_fe_cov.loc[common_coef, common_coef] -\n",
    "                        b_re_cov.loc[common_coef, common_coef])\n",
    "    b_cov_diff.reshape((df, df))\n",
    "\n",
    "    # (III) calculate test statistic:\n",
    "    hausman_stat = abs(np.transpose(b_diff) @ np.linalg.inv(b_cov_diff) @ b_diff)\n",
    "    hausman_p = 1 - stats.chi2.cdf(hausman_stat, df)\n",
    "\n",
    "    print(f\"Hausman Test Statistic: {hausman_stat}\")\n",
    "    print(f\"Hausman Test Statistic: {hausman_p}\")"
   ]
  },
  {
   "cell_type": "code",
   "execution_count": 262,
   "metadata": {},
   "outputs": [],
   "source": [
    "tw_fe_fit = load_pickle('model/tw_fe.pickle')\n",
    "entity_fe_fit = load_pickle('model/entity_fe.pickle')\n",
    "time_fe_fit = load_pickle('model/time_fe.pickle')"
   ]
  },
  {
   "cell_type": "markdown",
   "metadata": {},
   "source": [
    "### 2-way FE vs. 2-way RE"
   ]
  },
  {
   "cell_type": "code",
   "execution_count": 263,
   "metadata": {},
   "outputs": [
    {
     "name": "stdout",
     "output_type": "stream",
     "text": [
      "Hausman Test Statistic: 67.01781028791942\n",
      "Hausman Test Statistic: 5.9048321787713576e-12\n"
     ]
    }
   ],
   "source": [
    "hausman_test(tw_fe_fit, tw_re_fit)"
   ]
  },
  {
   "cell_type": "markdown",
   "metadata": {},
   "source": [
    "### Entity FE vs. Entity RE"
   ]
  },
  {
   "cell_type": "code",
   "execution_count": 264,
   "metadata": {},
   "outputs": [
    {
     "name": "stdout",
     "output_type": "stream",
     "text": [
      "Hausman Test Statistic: 128.12439868380366\n",
      "Hausman Test Statistic: 0.0\n"
     ]
    }
   ],
   "source": [
    "hausman_test(entity_fe_fit, entity_re_fit)"
   ]
  },
  {
   "cell_type": "markdown",
   "metadata": {},
   "source": [
    "From the Hausman tests conducted around entity and joint effects, the p-values of all tests are significant at all reasonable levels of significance. Thus, either a entity or 2-way fixed effects model is preferred over the random effects model. "
   ]
  },
  {
   "cell_type": "markdown",
   "metadata": {},
   "source": [
    "### Time FE vs. Time RE"
   ]
  },
  {
   "cell_type": "code",
   "execution_count": 265,
   "metadata": {},
   "outputs": [
    {
     "name": "stdout",
     "output_type": "stream",
     "text": [
      "Hausman Test Statistic: 7.698830119454162\n",
      "Hausman Test Statistic: 0.35989827537203667\n"
     ]
    }
   ],
   "source": [
    "hausman_test(time_fe_fit, time_re_fit)"
   ]
  },
  {
   "cell_type": "markdown",
   "metadata": {},
   "source": [
    "From the Hausman tests conducted around time effects, the p-values of all tests are significant at all reasonable levels of significance. Thus, a time random effects model is preferred over the fixed effects model. \n"
   ]
  },
  {
   "cell_type": "markdown",
   "metadata": {},
   "source": [
    "### CRE vs. RE Test"
   ]
  },
  {
   "cell_type": "markdown",
   "metadata": {},
   "source": [
    "#### Entity CRE vs. Entity RE"
   ]
  },
  {
   "cell_type": "code",
   "execution_count": 266,
   "metadata": {},
   "outputs": [
    {
     "name": "stdout",
     "output_type": "stream",
     "text": [
      "Linear Equality Hypothesis Test\n",
      "H0: Linear equality constraint is valid\n",
      "Statistic: 78.1680\n",
      "P-value: 0.0000\n",
      "Distributed: chi2(6)\n"
     ]
    }
   ],
   "source": [
    "endo_var = 'LEVERAGE'\n",
    "exog_vars = ['SIZE',\n",
    "             'PROFITABILITY',\n",
    "             'TANG',\n",
    "             'LIQUID',\n",
    "             'MCAP',\n",
    "             'SOLV']\n",
    "\n",
    "mean_exog_vars = ['avg' + var for var in exog_vars]\n",
    "\n",
    "hypothesis = \" = \".join(mean_exog_vars) + \" = 0\"\n",
    "wald_test = entity_cre_fit.wald_test(formula= hypothesis)\n",
    "\n",
    "print(wald_test)"
   ]
  },
  {
   "cell_type": "markdown",
   "metadata": {},
   "source": [
    "#### Time CRE vs. Time RE"
   ]
  },
  {
   "cell_type": "code",
   "execution_count": 267,
   "metadata": {},
   "outputs": [
    {
     "name": "stdout",
     "output_type": "stream",
     "text": [
      "Linear Equality Hypothesis Test\n",
      "H0: Linear equality constraint is valid\n",
      "Statistic: 7.3996\n",
      "P-value: 0.2855\n",
      "Distributed: chi2(6)\n"
     ]
    }
   ],
   "source": [
    "endo_var = 'LEVERAGE'\n",
    "exog_vars = ['SIZE',\n",
    "             'PROFITABILITY',\n",
    "             'TANG',\n",
    "             'LIQUID',\n",
    "             'MCAP',\n",
    "             'SOLV']\n",
    "\n",
    "mean_exog_vars = ['avg' + var for var in exog_vars]\n",
    "\n",
    "hypothesis = \" = \".join(mean_exog_vars) + \" = 0\"\n",
    "wald_test = time_cre_fit.wald_test(formula= hypothesis)\n",
    "\n",
    "print(wald_test)"
   ]
  },
  {
   "cell_type": "markdown",
   "metadata": {},
   "source": [
    "#### 2-Way CRE vs. 2-Way RE"
   ]
  },
  {
   "cell_type": "code",
   "execution_count": 269,
   "metadata": {},
   "outputs": [
    {
     "name": "stdout",
     "output_type": "stream",
     "text": [
      "Wald-Test Statistic for 2-Way Correlated Random Effects: 5\n",
      "Wald-Test Statistic for 2-Way Correlated Random Effects: 76.08690678565168\n",
      "Wald-Test Statistic for 2-Way Correlated Random Effects: 5.517345793710803e-15\n"
     ]
    },
    {
     "name": "stderr",
     "output_type": "stream",
     "text": [
      "c:\\ProgramData\\anaconda3\\Lib\\site-packages\\statsmodels\\base\\model.py:1888: ValueWarning: covariance of constraints does not have full rank. The number of constraints is 6, but rank is 5\n",
      "  warnings.warn('covariance of constraints does not have full '\n",
      "c:\\ProgramData\\anaconda3\\Lib\\site-packages\\statsmodels\\base\\model.py:1906: FutureWarning: The behavior of wald_test will change after 0.14 to returning scalar test statistic values. To get the future behavior now, set scalar to True. To silence this message while retaining the legacy behavior, set scalar to False.\n",
      "  warnings.warn(\n"
     ]
    }
   ],
   "source": [
    "endo_var = 'LEVERAGE'\n",
    "exog_vars = ['SIZE',\n",
    "             'PROFITABILITY',\n",
    "             'TANG',\n",
    "             'LIQUID',\n",
    "             'MCAP',\n",
    "             'SOLV']\n",
    "\n",
    "mean_exog_vars = ['avg' + var for var in exog_vars]\n",
    "\n",
    "hypothesis_matrix = \" = \".join(mean_exog_vars) + ' = 0'\n",
    "wald_test = tw_cre_fit.wald_test(hypothesis_matrix, use_f= False, )\n",
    "\n",
    "print(f\"Wald-Test Statistic for 2-Way Correlated Random Effects: {wald_test.df_denom}\")\n",
    "print(f\"Wald-Test Statistic for 2-Way Correlated Random Effects: {wald_test.statistic[0][0]}\")\n",
    "print(f\"Wald-Test Statistic for 2-Way Correlated Random Effects: {wald_test.pvalue.item()}\")"
   ]
  },
  {
   "cell_type": "markdown",
   "metadata": {},
   "source": [
    "The Wald-Test of the time effects CRE model is highly insignificant, as such if we had to compare, the time RE is preferred over the time CRE.\n",
    "\n",
    "However, from the Wald-Tests conducted between the random effects and correlated random effects models with with entity or 2-way effects, we have to reject the linearity constraint hypothesis and conclude that the CRE model is preferred. This is expected as we have already tested and accepted the significance of the within effects in our model."
   ]
  },
  {
   "cell_type": "markdown",
   "metadata": {},
   "source": [
    "### LM Test for 2-Way CRE"
   ]
  },
  {
   "cell_type": "code",
   "execution_count": 270,
   "metadata": {},
   "outputs": [
    {
     "name": "stdout",
     "output_type": "stream",
     "text": [
      "Marginal LM Statistic for Entity Correlated Random Effects: -0.007498517709995994\n",
      "p-value of Marginal LM test for Entity Correlated Random ffects: 1.0\n"
     ]
    }
   ],
   "source": [
    "marg_cre_entity_stat = marg_LM_stat(restricted_model= entity_cre_fit, how= 'Entity')\n",
    "marg_cre_entity_p = 1 - stats.chi2.cdf(marg_cre_entity_stat, 1)\n",
    "\n",
    "print(f\"Marginal LM Statistic for Entity Correlated Random Effects: {marg_cre_entity_stat}\")\n",
    "print(f\"p-value of Marginal LM test for Entity Correlated Random ffects: {marg_cre_entity_p}\")"
   ]
  },
  {
   "cell_type": "markdown",
   "metadata": {},
   "source": [
    "From the LM test conducted between the 2-way and entity correlated random effects, the p-value of 1.0 suggests that a 2-way model should not be preferred."
   ]
  },
  {
   "cell_type": "markdown",
   "metadata": {},
   "source": [
    "### Cluster Robust Entity CRE"
   ]
  },
  {
   "cell_type": "code",
   "execution_count": 273,
   "metadata": {},
   "outputs": [
    {
     "name": "stdout",
     "output_type": "stream",
     "text": [
      "                        RandomEffects Estimation Summary                        \n",
      "================================================================================\n",
      "Dep. Variable:               LEVERAGE   R-squared:                        0.2733\n",
      "Estimator:              RandomEffects   R-squared (Between):              0.4508\n",
      "No. Observations:                1728   R-squared (Within):               0.2401\n",
      "Date:                Mon, Apr 01 2024   R-squared (Overall):              0.4129\n",
      "Time:                        13:56:57   Log-likelihood                    1505.4\n",
      "Cov. Estimator:             Clustered                                           \n",
      "                                        F-statistic:                      53.744\n",
      "Entities:                         216   P-value                           0.0000\n",
      "Avg Obs:                       8.0000   Distribution:                 F(12,1715)\n",
      "Min Obs:                       8.0000                                           \n",
      "Max Obs:                       8.0000   F-statistic (robust):             36.989\n",
      "                                        P-value                           0.0000\n",
      "Time periods:                       8   Distribution:                 F(12,1715)\n",
      "Avg Obs:                       216.00                                           \n",
      "Min Obs:                       216.00                                           \n",
      "Max Obs:                       216.00                                           \n",
      "                                                                                \n",
      "                                Parameter Estimates                                 \n",
      "====================================================================================\n",
      "                  Parameter  Std. Err.     T-stat    P-value    Lower CI    Upper CI\n",
      "------------------------------------------------------------------------------------\n",
      "const               -0.5374     0.1433    -3.7500     0.0002     -0.8185     -0.2563\n",
      "SIZE                 0.0834     0.0238     3.4980     0.0005      0.0366      0.1302\n",
      "PROFITABILITY       -0.2270     0.0544    -4.1710     0.0000     -0.3338     -0.1203\n",
      "TANG                 0.4346     0.0808     5.3770     0.0000      0.2760      0.5931\n",
      "LIQUID              -0.0228     0.0062    -3.6439     0.0003     -0.0350     -0.0105\n",
      "MCAP             -4.195e-12    3.3e-12    -1.2713     0.2038  -1.067e-11   2.277e-12\n",
      "SOLV                -0.0002     0.0001    -1.7440     0.0813     -0.0004   2.441e-05\n",
      "avgSIZE             -0.0413     0.0242    -1.7087     0.0877     -0.0887      0.0061\n",
      "avgPROFITABILITY    -0.5395     0.2074    -2.6014     0.0094     -0.9463     -0.1327\n",
      "avgTANG             -0.2530     0.0986    -2.5663     0.0104     -0.4464     -0.0596\n",
      "avgLIQUID           -0.0482     0.0100    -4.8090     0.0000     -0.0679     -0.0286\n",
      "avgMCAP          -4.719e-12  3.488e-12    -1.3529     0.1763  -1.156e-11   2.122e-12\n",
      "avgSOLV             -0.0006     0.0002    -2.9371     0.0034     -0.0010     -0.0002\n",
      "====================================================================================\n"
     ]
    }
   ],
   "source": [
    "ind_clust_entity_cre = entity_cre_mod.fit(cov_type= 'clustered', cluster_entity= True)\n",
    "print(ind_clust_entity_cre.summary)"
   ]
  },
  {
   "cell_type": "markdown",
   "metadata": {},
   "source": [
    "### Save Final Model"
   ]
  },
  {
   "cell_type": "code",
   "execution_count": 274,
   "metadata": {},
   "outputs": [],
   "source": [
    "save_pickle(ind_clust_entity_cre, \"model/ind_clust_entity_cre.pickle\")"
   ]
  },
  {
   "cell_type": "markdown",
   "metadata": {},
   "source": [
    "## Conclusion"
   ]
  },
  {
   "cell_type": "markdown",
   "metadata": {},
   "source": [
    "- When comparing between random effects models, the entity random effects model appear to be preferred over the other models.\n",
    "\n",
    "- When comparing between fixed effects and random effects models, the fixed effects models take precedence over the random effects models except when comparing time effects models.\n",
    "\n",
    "&rarr; This suggests that there are fixed "
   ]
  }
 ],
 "metadata": {
  "kernelspec": {
   "display_name": "base",
   "language": "python",
   "name": "python3"
  },
  "language_info": {
   "codemirror_mode": {
    "name": "ipython",
    "version": 3
   },
   "file_extension": ".py",
   "mimetype": "text/x-python",
   "name": "python",
   "nbconvert_exporter": "python",
   "pygments_lexer": "ipython3",
   "version": "3.11.5"
  }
 },
 "nbformat": 4,
 "nbformat_minor": 2
}
