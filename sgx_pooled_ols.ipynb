{
 "cells": [
  {
   "cell_type": "markdown",
   "metadata": {},
   "source": [
    "# Pooled OLS Analysis of SGX Data"
   ]
  },
  {
   "cell_type": "markdown",
   "metadata": {},
   "source": [
    "## Load data and libraries"
   ]
  },
  {
   "cell_type": "code",
   "execution_count": 27,
   "metadata": {},
   "outputs": [],
   "source": [
    "import numpy as np\n",
    "import pandas as pd\n",
    "import statsmodels.api as sm\n",
    "from linearmodels.panel import PooledOLS"
   ]
  },
  {
   "cell_type": "code",
   "execution_count": 28,
   "metadata": {},
   "outputs": [
    {
     "data": {
      "text/plain": [
       "Index(['Company', 'NACE', 'Year', 'TA', 'CA', 'FA', 'TL', 'CL', 'DEBT',\n",
       "       'TAXEX', 'INTEX', 'TE', 'PROFIT', 'SALES', 'EBITDA', 'EBIT', 'DA',\n",
       "       'CFO', 'CAPEX', 'MCAP', 'SOLV', 'SORA', 'CPI', 'SIZE', 'PROFITABILITY',\n",
       "       'TANG', 'RISK', 'LIQUID', 'NDTSHIELD', 'TAXRATE', 'FCFF', 'GROWPOT',\n",
       "       'LEVERAGE'],\n",
       "      dtype='object')"
      ]
     },
     "execution_count": 28,
     "metadata": {},
     "output_type": "execute_result"
    }
   ],
   "source": [
    "sgx = pd.read_csv(\"data/clean_sgx.csv\")\n",
    "sgx.columns"
   ]
  },
  {
   "cell_type": "markdown",
   "metadata": {},
   "source": [
    "## Fit PooledOLS"
   ]
  },
  {
   "cell_type": "markdown",
   "metadata": {},
   "source": [
    "### Fit all variables in our initial model"
   ]
  },
  {
   "cell_type": "code",
   "execution_count": 29,
   "metadata": {},
   "outputs": [
    {
     "name": "stdout",
     "output_type": "stream",
     "text": [
      "                          PooledOLS Estimation Summary                          \n",
      "================================================================================\n",
      "Dep. Variable:               LEVERAGE   R-squared:                        0.3632\n",
      "Estimator:                  PooledOLS   R-squared (Between):              0.4300\n",
      "No. Observations:                1728   R-squared (Within):               0.0580\n",
      "Date:                Fri, Mar 29 2024   R-squared (Overall):              0.3632\n",
      "Time:                        01:20:11   Log-likelihood                    283.56\n",
      "Cov. Estimator:            Unadjusted                                           \n",
      "                                        F-statistic:                      81.520\n",
      "Entities:                         216   P-value                           0.0000\n",
      "Avg Obs:                       8.0000   Distribution:                 F(12,1715)\n",
      "Min Obs:                       8.0000                                           \n",
      "Max Obs:                       8.0000   F-statistic (robust):             81.520\n",
      "                                        P-value                           0.0000\n",
      "Time periods:                       8   Distribution:                 F(12,1715)\n",
      "Avg Obs:                       216.00                                           \n",
      "Min Obs:                       216.00                                           \n",
      "Max Obs:                       216.00                                           \n",
      "                                                                                \n",
      "                               Parameter Estimates                               \n",
      "=================================================================================\n",
      "               Parameter  Std. Err.     T-stat    P-value    Lower CI    Upper CI\n",
      "---------------------------------------------------------------------------------\n",
      "const            -0.5894     0.0658    -8.9558     0.0000     -0.7185     -0.4603\n",
      "SIZE              0.0417     0.0033     12.802     0.0000      0.0353      0.0481\n",
      "PROFITABILITY    -0.4409     0.0604    -7.3032     0.0000     -0.5593     -0.3225\n",
      "TANG              0.1953     0.0259     7.5378     0.0000      0.1445      0.2461\n",
      "RISK          -2.271e-05  2.019e-05    -1.1251     0.2607  -6.231e-05   1.688e-05\n",
      "LIQUID           -0.0545     0.0028    -19.724     0.0000     -0.0600     -0.0491\n",
      "NDTSHIELD        -0.0379     0.0896    -0.4231     0.6723     -0.2136      0.1378\n",
      "MCAP          -8.883e-12  1.934e-12    -4.5941     0.0000  -1.268e-11  -5.091e-12\n",
      "FCFF          -1.571e-13  2.702e-12    -0.0582     0.9536  -5.456e-12   5.142e-12\n",
      "GROWPOT          -0.0021     0.0026    -0.8166     0.4143     -0.0072      0.0030\n",
      "SOLV             -0.0007  7.083e-05    -9.5496     0.0000     -0.0008     -0.0005\n",
      "SORA              0.0099     0.0110     0.8956     0.3706     -0.0118      0.0315\n",
      "CPI              -0.0012     0.0029    -0.4263     0.6700     -0.0068      0.0044\n",
      "=================================================================================\n"
     ]
    }
   ],
   "source": [
    "sgx = sgx.set_index(['Company', 'Year'])\n",
    "\n",
    "endo = sgx.LEVERAGE\n",
    "exog_vars = ['SIZE',\n",
    "             'PROFITABILITY',\n",
    "             'TANG',\n",
    "             'RISK',\n",
    "             'LIQUID',\n",
    "             'NDTSHIELD',\n",
    "             'MCAP',\n",
    "             'FCFF',\n",
    "             'GROWPOT',\n",
    "             'SOLV',\n",
    "             'SORA',\n",
    "             'CPI']\n",
    "exog = sm.add_constant(sgx[exog_vars])\n",
    "\n",
    "pooled_mod = PooledOLS(dependent = endo,\n",
    "                       exog = exog)\n",
    "pooled_res = pooled_mod.fit()\n",
    "print(pooled_res.summary)"
   ]
  },
  {
   "cell_type": "markdown",
   "metadata": {},
   "source": [
    "The most insignificant variable is Free Cashflow to Firm (FCFF), and we drop it."
   ]
  },
  {
   "cell_type": "markdown",
   "metadata": {},
   "source": [
    "### 1st drop: FCFF"
   ]
  },
  {
   "cell_type": "code",
   "execution_count": 30,
   "metadata": {},
   "outputs": [
    {
     "name": "stdout",
     "output_type": "stream",
     "text": [
      "                          PooledOLS Estimation Summary                          \n",
      "================================================================================\n",
      "Dep. Variable:               LEVERAGE   R-squared:                        0.3632\n",
      "Estimator:                  PooledOLS   R-squared (Between):              0.4300\n",
      "No. Observations:                1728   R-squared (Within):               0.0579\n",
      "Date:                Fri, Mar 29 2024   R-squared (Overall):              0.3632\n",
      "Time:                        01:22:42   Log-likelihood                    283.55\n",
      "Cov. Estimator:            Unadjusted                                           \n",
      "                                        F-statistic:                      88.983\n",
      "Entities:                         216   P-value                           0.0000\n",
      "Avg Obs:                       8.0000   Distribution:                 F(11,1716)\n",
      "Min Obs:                       8.0000                                           \n",
      "Max Obs:                       8.0000   F-statistic (robust):             88.983\n",
      "                                        P-value                           0.0000\n",
      "Time periods:                       8   Distribution:                 F(11,1716)\n",
      "Avg Obs:                       216.00                                           \n",
      "Min Obs:                       216.00                                           \n",
      "Max Obs:                       216.00                                           \n",
      "                                                                                \n",
      "                               Parameter Estimates                               \n",
      "=================================================================================\n",
      "               Parameter  Std. Err.     T-stat    P-value    Lower CI    Upper CI\n",
      "---------------------------------------------------------------------------------\n",
      "const            -0.5894     0.0658    -8.9583     0.0000     -0.7184     -0.4603\n",
      "SIZE              0.0417     0.0033     12.806     0.0000      0.0353      0.0480\n",
      "PROFITABILITY    -0.4409     0.0604    -7.3054     0.0000     -0.5593     -0.3225\n",
      "TANG              0.1952     0.0259     7.5420     0.0000      0.1445      0.2460\n",
      "RISK           -2.27e-05  2.018e-05    -1.1246     0.2609  -6.228e-05   1.689e-05\n",
      "LIQUID           -0.0545     0.0028    -19.730     0.0000     -0.0600     -0.0491\n",
      "NDTSHIELD        -0.0379     0.0895    -0.4229     0.6724     -0.2135      0.1378\n",
      "MCAP          -8.905e-12  1.898e-12    -4.6923     0.0000  -1.263e-11  -5.183e-12\n",
      "GROWPOT          -0.0021     0.0026    -0.8169     0.4141     -0.0072      0.0030\n",
      "SOLV             -0.0007   7.08e-05    -9.5522     0.0000     -0.0008     -0.0005\n",
      "SORA              0.0099     0.0110     0.8969     0.3699     -0.0117      0.0315\n",
      "CPI              -0.0012     0.0029    -0.4262     0.6700     -0.0068      0.0044\n",
      "=================================================================================\n"
     ]
    }
   ],
   "source": [
    "endo = sgx.LEVERAGE\n",
    "exog_vars = ['SIZE',\n",
    "             'PROFITABILITY',\n",
    "             'TANG',\n",
    "             'RISK',\n",
    "             'LIQUID',\n",
    "             'NDTSHIELD',\n",
    "             'MCAP',\n",
    "             'GROWPOT',\n",
    "             'SOLV',\n",
    "             'SORA',\n",
    "             'CPI']\n",
    "exog = sm.add_constant(sgx[exog_vars])\n",
    "\n",
    "pooled_mod = PooledOLS(dependent = endo,\n",
    "                       exog = exog)\n",
    "pooled_res = pooled_mod.fit()\n",
    "print(pooled_res.summary)"
   ]
  },
  {
   "cell_type": "markdown",
   "metadata": {},
   "source": [
    "The most insignificant variable is Non-Debt Tax Shield (NDTS), and we drop it."
   ]
  },
  {
   "cell_type": "markdown",
   "metadata": {},
   "source": [
    "### 2nd drop: NDTS"
   ]
  },
  {
   "cell_type": "code",
   "execution_count": 31,
   "metadata": {},
   "outputs": [
    {
     "name": "stdout",
     "output_type": "stream",
     "text": [
      "                          PooledOLS Estimation Summary                          \n",
      "================================================================================\n",
      "Dep. Variable:               LEVERAGE   R-squared:                        0.3632\n",
      "Estimator:                  PooledOLS   R-squared (Between):              0.4296\n",
      "No. Observations:                1728   R-squared (Within):               0.0595\n",
      "Date:                Fri, Mar 29 2024   R-squared (Overall):              0.3632\n",
      "Time:                        01:25:47   Log-likelihood                    283.46\n",
      "Cov. Estimator:            Unadjusted                                           \n",
      "                                        F-statistic:                      97.910\n",
      "Entities:                         216   P-value                           0.0000\n",
      "Avg Obs:                       8.0000   Distribution:                 F(10,1717)\n",
      "Min Obs:                       8.0000                                           \n",
      "Max Obs:                       8.0000   F-statistic (robust):             97.910\n",
      "                                        P-value                           0.0000\n",
      "Time periods:                       8   Distribution:                 F(10,1717)\n",
      "Avg Obs:                       216.00                                           \n",
      "Min Obs:                       216.00                                           \n",
      "Max Obs:                       216.00                                           \n",
      "                                                                                \n",
      "                               Parameter Estimates                               \n",
      "=================================================================================\n",
      "               Parameter  Std. Err.     T-stat    P-value    Lower CI    Upper CI\n",
      "---------------------------------------------------------------------------------\n",
      "const            -0.5958     0.0640    -9.3121     0.0000     -0.7213     -0.4703\n",
      "SIZE              0.0419     0.0032     13.165     0.0000      0.0357      0.0482\n",
      "PROFITABILITY    -0.4357     0.0591    -7.3745     0.0000     -0.5516     -0.3199\n",
      "TANG              0.1923     0.0249     7.7086     0.0000      0.1434      0.2412\n",
      "RISK          -2.266e-05  2.018e-05    -1.1229     0.2617  -6.223e-05   1.692e-05\n",
      "LIQUID           -0.0544     0.0028    -19.777     0.0000     -0.0598     -0.0490\n",
      "MCAP          -8.979e-12  1.889e-12    -4.7522     0.0000  -1.268e-11  -5.273e-12\n",
      "GROWPOT          -0.0022     0.0026    -0.8471     0.3970     -0.0073      0.0029\n",
      "SOLV             -0.0007  7.077e-05    -9.5671     0.0000     -0.0008     -0.0005\n",
      "SORA              0.0101     0.0110     0.9120     0.3619     -0.0116      0.0317\n",
      "CPI              -0.0013     0.0029    -0.4454     0.6561     -0.0069      0.0043\n",
      "=================================================================================\n"
     ]
    }
   ],
   "source": [
    "endo = sgx.LEVERAGE\n",
    "exog_vars = ['SIZE',\n",
    "             'PROFITABILITY',\n",
    "             'TANG',\n",
    "             'RISK',\n",
    "             'LIQUID',\n",
    "             'MCAP',\n",
    "             'GROWPOT',\n",
    "             'SOLV',\n",
    "             'SORA',\n",
    "             'CPI']\n",
    "exog = sm.add_constant(sgx[exog_vars])\n",
    "\n",
    "pooled_mod = PooledOLS(dependent = endo,\n",
    "                       exog = exog)\n",
    "pooled_res = pooled_mod.fit()\n",
    "print(pooled_res.summary)"
   ]
  },
  {
   "cell_type": "markdown",
   "metadata": {},
   "source": [
    "The most insignificant variable is Consumer Price Index (CPI), and we drop it."
   ]
  },
  {
   "cell_type": "markdown",
   "metadata": {},
   "source": [
    "### 3rd drop: CPI"
   ]
  },
  {
   "cell_type": "code",
   "execution_count": 32,
   "metadata": {},
   "outputs": [
    {
     "name": "stdout",
     "output_type": "stream",
     "text": [
      "                          PooledOLS Estimation Summary                          \n",
      "================================================================================\n",
      "Dep. Variable:               LEVERAGE   R-squared:                        0.3631\n",
      "Estimator:                  PooledOLS   R-squared (Between):              0.4297\n",
      "No. Observations:                1728   R-squared (Within):               0.0584\n",
      "Date:                Fri, Mar 29 2024   R-squared (Overall):              0.3631\n",
      "Time:                        01:27:52   Log-likelihood                    283.36\n",
      "Cov. Estimator:            Unadjusted                                           \n",
      "                                        F-statistic:                      108.82\n",
      "Entities:                         216   P-value                           0.0000\n",
      "Avg Obs:                       8.0000   Distribution:                  F(9,1718)\n",
      "Min Obs:                       8.0000                                           \n",
      "Max Obs:                       8.0000   F-statistic (robust):             108.82\n",
      "                                        P-value                           0.0000\n",
      "Time periods:                       8   Distribution:                  F(9,1718)\n",
      "Avg Obs:                       216.00                                           \n",
      "Min Obs:                       216.00                                           \n",
      "Max Obs:                       216.00                                           \n",
      "                                                                                \n",
      "                               Parameter Estimates                               \n",
      "=================================================================================\n",
      "               Parameter  Std. Err.     T-stat    P-value    Lower CI    Upper CI\n",
      "---------------------------------------------------------------------------------\n",
      "const            -0.5949     0.0639    -9.3044     0.0000     -0.7203     -0.4695\n",
      "SIZE              0.0419     0.0032     13.163     0.0000      0.0357      0.0482\n",
      "PROFITABILITY    -0.4380     0.0589    -7.4426     0.0000     -0.5534     -0.3226\n",
      "TANG              0.1926     0.0249     7.7230     0.0000      0.1437      0.2415\n",
      "RISK          -2.264e-05  2.017e-05    -1.1222     0.2619   -6.22e-05   1.693e-05\n",
      "LIQUID           -0.0545     0.0027    -19.815     0.0000     -0.0599     -0.0491\n",
      "MCAP          -8.969e-12  1.889e-12    -4.7487     0.0000  -1.267e-11  -5.265e-12\n",
      "GROWPOT          -0.0022     0.0026    -0.8347     0.4040     -0.0072      0.0029\n",
      "SOLV             -0.0007  7.073e-05    -9.5617     0.0000     -0.0008     -0.0005\n",
      "SORA              0.0074     0.0092     0.7984     0.4248     -0.0107      0.0255\n",
      "=================================================================================\n"
     ]
    }
   ],
   "source": [
    "endo = sgx.LEVERAGE\n",
    "exog_vars = ['SIZE',\n",
    "             'PROFITABILITY',\n",
    "             'TANG',\n",
    "             'RISK',\n",
    "             'LIQUID',\n",
    "             'MCAP',\n",
    "             'GROWPOT',\n",
    "             'SOLV',\n",
    "             'SORA']\n",
    "exog = sm.add_constant(sgx[exog_vars])\n",
    "\n",
    "pooled_mod = PooledOLS(dependent = endo,\n",
    "                       exog = exog)\n",
    "pooled_res = pooled_mod.fit()\n",
    "print(pooled_res.summary)"
   ]
  },
  {
   "cell_type": "markdown",
   "metadata": {},
   "source": [
    "The most insignificant variable is Singapore Overnight Rate Average (SORA), and we drop it."
   ]
  },
  {
   "cell_type": "markdown",
   "metadata": {},
   "source": [
    "### 4th drop: SORA"
   ]
  },
  {
   "cell_type": "code",
   "execution_count": 33,
   "metadata": {},
   "outputs": [
    {
     "name": "stdout",
     "output_type": "stream",
     "text": [
      "                          PooledOLS Estimation Summary                          \n",
      "================================================================================\n",
      "Dep. Variable:               LEVERAGE   R-squared:                        0.3628\n",
      "Estimator:                  PooledOLS   R-squared (Between):              0.4297\n",
      "No. Observations:                1728   R-squared (Within):               0.0570\n",
      "Date:                Fri, Mar 29 2024   R-squared (Overall):              0.3628\n",
      "Time:                        01:29:57   Log-likelihood                    283.04\n",
      "Cov. Estimator:            Unadjusted                                           \n",
      "                                        F-statistic:                      122.37\n",
      "Entities:                         216   P-value                           0.0000\n",
      "Avg Obs:                       8.0000   Distribution:                  F(8,1719)\n",
      "Min Obs:                       8.0000                                           \n",
      "Max Obs:                       8.0000   F-statistic (robust):             122.37\n",
      "                                        P-value                           0.0000\n",
      "Time periods:                       8   Distribution:                  F(8,1719)\n",
      "Avg Obs:                       216.00                                           \n",
      "Min Obs:                       216.00                                           \n",
      "Max Obs:                       216.00                                           \n",
      "                                                                                \n",
      "                               Parameter Estimates                               \n",
      "=================================================================================\n",
      "               Parameter  Std. Err.     T-stat    P-value    Lower CI    Upper CI\n",
      "---------------------------------------------------------------------------------\n",
      "const            -0.5904     0.0637    -9.2711     0.0000     -0.7153     -0.4655\n",
      "SIZE              0.0420     0.0032     13.177     0.0000      0.0357      0.0482\n",
      "PROFITABILITY    -0.4365     0.0588    -7.4221     0.0000     -0.5519     -0.3212\n",
      "TANG              0.1926     0.0249     7.7251     0.0000      0.1437      0.2415\n",
      "RISK          -2.294e-05  2.017e-05    -1.1374     0.2555  -6.249e-05   1.661e-05\n",
      "LIQUID           -0.0545     0.0027    -19.831     0.0000     -0.0599     -0.0491\n",
      "MCAP           -8.99e-12  1.888e-12    -4.7605     0.0000  -1.269e-11  -5.286e-12\n",
      "GROWPOT          -0.0022     0.0026    -0.8497     0.3956     -0.0073      0.0029\n",
      "SOLV             -0.0007  7.071e-05    -9.5802     0.0000     -0.0008     -0.0005\n",
      "=================================================================================\n"
     ]
    }
   ],
   "source": [
    "endo = sgx.LEVERAGE\n",
    "exog_vars = ['SIZE',\n",
    "             'PROFITABILITY',\n",
    "             'TANG',\n",
    "             'RISK',\n",
    "             'LIQUID',\n",
    "             'MCAP',\n",
    "             'GROWPOT',\n",
    "             'SOLV']\n",
    "exog = sm.add_constant(sgx[exog_vars])\n",
    "\n",
    "pooled_mod = PooledOLS(dependent = endo,\n",
    "                       exog = exog)\n",
    "pooled_res = pooled_mod.fit()\n",
    "print(pooled_res.summary)"
   ]
  },
  {
   "cell_type": "markdown",
   "metadata": {},
   "source": [
    "The most insignificant variable is Growth Potential (GROWPOT), and we drop it."
   ]
  },
  {
   "cell_type": "markdown",
   "metadata": {},
   "source": [
    "### 5th drop: GROWPOT"
   ]
  },
  {
   "cell_type": "code",
   "execution_count": 34,
   "metadata": {},
   "outputs": [
    {
     "name": "stdout",
     "output_type": "stream",
     "text": [
      "                          PooledOLS Estimation Summary                          \n",
      "================================================================================\n",
      "Dep. Variable:               LEVERAGE   R-squared:                        0.3626\n",
      "Estimator:                  PooledOLS   R-squared (Between):              0.4301\n",
      "No. Observations:                1728   R-squared (Within):               0.0538\n",
      "Date:                Fri, Mar 29 2024   R-squared (Overall):              0.3626\n",
      "Time:                        01:30:44   Log-likelihood                    282.68\n",
      "Cov. Estimator:            Unadjusted                                           \n",
      "                                        F-statistic:                      139.77\n",
      "Entities:                         216   P-value                           0.0000\n",
      "Avg Obs:                       8.0000   Distribution:                  F(7,1720)\n",
      "Min Obs:                       8.0000                                           \n",
      "Max Obs:                       8.0000   F-statistic (robust):             139.77\n",
      "                                        P-value                           0.0000\n",
      "Time periods:                       8   Distribution:                  F(7,1720)\n",
      "Avg Obs:                       216.00                                           \n",
      "Min Obs:                       216.00                                           \n",
      "Max Obs:                       216.00                                           \n",
      "                                                                                \n",
      "                               Parameter Estimates                               \n",
      "=================================================================================\n",
      "               Parameter  Std. Err.     T-stat    P-value    Lower CI    Upper CI\n",
      "---------------------------------------------------------------------------------\n",
      "const            -0.5990     0.0629    -9.5254     0.0000     -0.7223     -0.4756\n",
      "SIZE              0.0423     0.0032     13.382     0.0000      0.0361      0.0485\n",
      "PROFITABILITY    -0.4439     0.0582    -7.6311     0.0000     -0.5580     -0.3298\n",
      "TANG              0.1936     0.0249     7.7725     0.0000      0.1447      0.2424\n",
      "RISK          -2.313e-05  2.016e-05    -1.1474     0.2514  -6.268e-05   1.641e-05\n",
      "LIQUID           -0.0544     0.0027    -19.815     0.0000     -0.0598     -0.0490\n",
      "MCAP          -9.185e-12  1.874e-12    -4.9006     0.0000  -1.286e-11  -5.509e-12\n",
      "SOLV             -0.0007  7.041e-05    -9.6990     0.0000     -0.0008     -0.0005\n",
      "=================================================================================\n"
     ]
    }
   ],
   "source": [
    "endo = sgx.LEVERAGE\n",
    "exog_vars = ['SIZE',\n",
    "             'PROFITABILITY',\n",
    "             'TANG',\n",
    "             'RISK',\n",
    "             'LIQUID',\n",
    "             'MCAP',\n",
    "             'SOLV']\n",
    "exog = sm.add_constant(sgx[exog_vars])\n",
    "\n",
    "pooled_mod = PooledOLS(dependent = endo,\n",
    "                       exog = exog)\n",
    "pooled_res = pooled_mod.fit()\n",
    "print(pooled_res.summary)"
   ]
  },
  {
   "cell_type": "markdown",
   "metadata": {},
   "source": [
    "The most insignificant variable is Business Risk Factor (RISK), and we drop it."
   ]
  },
  {
   "cell_type": "markdown",
   "metadata": {},
   "source": [
    "### Final & 6th drop: RISK"
   ]
  },
  {
   "cell_type": "code",
   "execution_count": 35,
   "metadata": {},
   "outputs": [
    {
     "name": "stdout",
     "output_type": "stream",
     "text": [
      "                          PooledOLS Estimation Summary                          \n",
      "================================================================================\n",
      "Dep. Variable:               LEVERAGE   R-squared:                        0.3621\n",
      "Estimator:                  PooledOLS   R-squared (Between):              0.4292\n",
      "No. Observations:                1728   R-squared (Within):               0.0550\n",
      "Date:                Fri, Mar 29 2024   R-squared (Overall):              0.3621\n",
      "Time:                        01:31:36   Log-likelihood                    282.02\n",
      "Cov. Estimator:            Unadjusted                                           \n",
      "                                        F-statistic:                      162.81\n",
      "Entities:                         216   P-value                           0.0000\n",
      "Avg Obs:                       8.0000   Distribution:                  F(6,1721)\n",
      "Min Obs:                       8.0000                                           \n",
      "Max Obs:                       8.0000   F-statistic (robust):             162.81\n",
      "                                        P-value                           0.0000\n",
      "Time periods:                       8   Distribution:                  F(6,1721)\n",
      "Avg Obs:                       216.00                                           \n",
      "Min Obs:                       216.00                                           \n",
      "Max Obs:                       216.00                                           \n",
      "                                                                                \n",
      "                               Parameter Estimates                               \n",
      "=================================================================================\n",
      "               Parameter  Std. Err.     T-stat    P-value    Lower CI    Upper CI\n",
      "---------------------------------------------------------------------------------\n",
      "const            -0.5964     0.0628    -9.4903     0.0000     -0.7197     -0.4732\n",
      "SIZE              0.0422     0.0032     13.349     0.0000      0.0360      0.0484\n",
      "PROFITABILITY    -0.4442     0.0582    -7.6348     0.0000     -0.5583     -0.3301\n",
      "TANG              0.1932     0.0249     7.7580     0.0000      0.1444      0.2421\n",
      "LIQUID           -0.0545     0.0027    -19.867     0.0000     -0.0599     -0.0491\n",
      "MCAP          -8.842e-12   1.85e-12    -4.7783     0.0000  -1.247e-11  -5.213e-12\n",
      "SOLV             -0.0007  7.042e-05    -9.6952     0.0000     -0.0008     -0.0005\n",
      "=================================================================================\n"
     ]
    }
   ],
   "source": [
    "endo = sgx.LEVERAGE\n",
    "exog_vars = ['SIZE',\n",
    "             'PROFITABILITY',\n",
    "             'TANG',\n",
    "             'LIQUID',\n",
    "             'MCAP',\n",
    "             'SOLV']\n",
    "exog = sm.add_constant(sgx[exog_vars])\n",
    "\n",
    "pooled_mod = PooledOLS(dependent = endo,\n",
    "                       exog = exog)\n",
    "pooled_res = pooled_mod.fit()\n",
    "print(pooled_res.summary)"
   ]
  },
  {
   "cell_type": "markdown",
   "metadata": {},
   "source": [
    "## Robust PooledOLS"
   ]
  },
  {
   "cell_type": "code",
   "execution_count": 36,
   "metadata": {},
   "outputs": [
    {
     "name": "stdout",
     "output_type": "stream",
     "text": [
      "                          PooledOLS Estimation Summary                          \n",
      "================================================================================\n",
      "Dep. Variable:               LEVERAGE   R-squared:                        0.3621\n",
      "Estimator:                  PooledOLS   R-squared (Between):              0.4292\n",
      "No. Observations:                1728   R-squared (Within):               0.0550\n",
      "Date:                Fri, Mar 29 2024   R-squared (Overall):              0.3621\n",
      "Time:                        01:39:55   Log-likelihood                    282.02\n",
      "Cov. Estimator:                Robust                                           \n",
      "                                        F-statistic:                      162.81\n",
      "Entities:                         216   P-value                           0.0000\n",
      "Avg Obs:                       8.0000   Distribution:                  F(6,1721)\n",
      "Min Obs:                       8.0000                                           \n",
      "Max Obs:                       8.0000   F-statistic (robust):             113.38\n",
      "                                        P-value                           0.0000\n",
      "Time periods:                       8   Distribution:                  F(6,1721)\n",
      "Avg Obs:                       216.00                                           \n",
      "Min Obs:                       216.00                                           \n",
      "Max Obs:                       216.00                                           \n",
      "                                                                                \n",
      "                               Parameter Estimates                               \n",
      "=================================================================================\n",
      "               Parameter  Std. Err.     T-stat    P-value    Lower CI    Upper CI\n",
      "---------------------------------------------------------------------------------\n",
      "const            -0.5964     0.0633    -9.4285     0.0000     -0.7205     -0.4724\n",
      "SIZE              0.0422     0.0030     14.184     0.0000      0.0363      0.0480\n",
      "PROFITABILITY    -0.4442     0.0787    -5.6421     0.0000     -0.5986     -0.2898\n",
      "TANG              0.1932     0.0227     8.4966     0.0000      0.1486      0.2378\n",
      "LIQUID           -0.0545     0.0057    -9.5449     0.0000     -0.0657     -0.0433\n",
      "MCAP          -8.842e-12  1.672e-12    -5.2879     0.0000  -1.212e-11  -5.562e-12\n",
      "SOLV             -0.0007     0.0001    -6.5766     0.0000     -0.0009     -0.0005\n",
      "=================================================================================\n"
     ]
    }
   ],
   "source": [
    "endo = sgx.LEVERAGE\n",
    "exog_vars = ['SIZE',\n",
    "             'PROFITABILITY',\n",
    "             'TANG',\n",
    "             'LIQUID',\n",
    "             'MCAP',\n",
    "             'SOLV']\n",
    "exog = sm.add_constant(sgx[exog_vars])\n",
    "\n",
    "pooled_mod = PooledOLS(dependent = endo,\n",
    "                       exog = exog)\n",
    "pooled_res = pooled_mod.fit(cov_type = 'robust')\n",
    "print(pooled_res.summary)"
   ]
  }
 ],
 "metadata": {
  "kernelspec": {
   "display_name": "base",
   "language": "python",
   "name": "python3"
  },
  "language_info": {
   "codemirror_mode": {
    "name": "ipython",
    "version": 3
   },
   "file_extension": ".py",
   "mimetype": "text/x-python",
   "name": "python",
   "nbconvert_exporter": "python",
   "pygments_lexer": "ipython3",
   "version": "3.11.5"
  }
 },
 "nbformat": 4,
 "nbformat_minor": 2
}
