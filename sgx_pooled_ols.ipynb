{
 "cells": [
  {
   "cell_type": "markdown",
   "metadata": {},
   "source": [
    "# Pooled OLS Analysis of SGX Data"
   ]
  },
  {
   "cell_type": "markdown",
   "metadata": {},
   "source": [
    "## Load data and libraries"
   ]
  },
  {
   "cell_type": "code",
   "execution_count": 10,
   "metadata": {},
   "outputs": [],
   "source": [
    "import numpy as np\n",
    "import pandas as pd\n",
    "import statsmodels.api as sm\n",
    "from linearmodels.panel import PooledOLS"
   ]
  },
  {
   "cell_type": "code",
   "execution_count": 25,
   "metadata": {},
   "outputs": [
    {
     "data": {
      "text/plain": [
       "Index(['Company', 'NACE', 'Year', 'TA', 'CA', 'FA', 'TL', 'CL', 'DEBT',\n",
       "       'TAXEX', 'INTEX', 'TE', 'PROFIT', 'SALES', 'EBITDA', 'EBIT', 'DA',\n",
       "       'CFO', 'CAPEX', 'MCAP', 'SOLV', 'SORA', 'CPI', 'SIZE', 'PROFITABILITY',\n",
       "       'TANG', 'RISK', 'LIQUID', 'DTSHIELD', 'TAXRATE', 'FCFF', 'GROWPOT',\n",
       "       'LEVERAGE'],\n",
       "      dtype='object')"
      ]
     },
     "execution_count": 25,
     "metadata": {},
     "output_type": "execute_result"
    }
   ],
   "source": [
    "sgx = pd.read_csv(\"data/clean_sgx.csv\")\n",
    "sgx.columns"
   ]
  },
  {
   "cell_type": "markdown",
   "metadata": {},
   "source": [
    "## Fit PooledOLS"
   ]
  },
  {
   "cell_type": "markdown",
   "metadata": {},
   "source": [
    "### Fit all variables in our initial model"
   ]
  },
  {
   "cell_type": "code",
   "execution_count": 26,
   "metadata": {},
   "outputs": [
    {
     "name": "stdout",
     "output_type": "stream",
     "text": [
      "                          PooledOLS Estimation Summary                          \n",
      "================================================================================\n",
      "Dep. Variable:               LEVERAGE   R-squared:                        0.3632\n",
      "Estimator:                  PooledOLS   R-squared (Between):              0.4300\n",
      "No. Observations:                1728   R-squared (Within):               0.0580\n",
      "Date:                Fri, Mar 29 2024   R-squared (Overall):              0.3632\n",
      "Time:                        00:17:00   Log-likelihood                    283.56\n",
      "Cov. Estimator:            Unadjusted                                           \n",
      "                                        F-statistic:                      81.520\n",
      "Entities:                         216   P-value                           0.0000\n",
      "Avg Obs:                       8.0000   Distribution:                 F(12,1715)\n",
      "Min Obs:                       8.0000                                           \n",
      "Max Obs:                       8.0000   F-statistic (robust):             81.520\n",
      "                                        P-value                           0.0000\n",
      "Time periods:                       8   Distribution:                 F(12,1715)\n",
      "Avg Obs:                       216.00                                           \n",
      "Min Obs:                       216.00                                           \n",
      "Max Obs:                       216.00                                           \n",
      "                                                                                \n",
      "                               Parameter Estimates                               \n",
      "=================================================================================\n",
      "               Parameter  Std. Err.     T-stat    P-value    Lower CI    Upper CI\n",
      "---------------------------------------------------------------------------------\n",
      "const            -0.5894     0.0658    -8.9558     0.0000     -0.7185     -0.4603\n",
      "SIZE              0.0417     0.0033     12.802     0.0000      0.0353      0.0481\n",
      "PROFITABILITY    -0.4409     0.0604    -7.3032     0.0000     -0.5593     -0.3225\n",
      "TANG              0.1953     0.0259     7.5378     0.0000      0.1445      0.2461\n",
      "RISK          -2.271e-05  2.019e-05    -1.1251     0.2607  -6.231e-05   1.688e-05\n",
      "LIQUID           -0.0545     0.0028    -19.724     0.0000     -0.0600     -0.0491\n",
      "DTSHIELD         -0.0379     0.0896    -0.4231     0.6723     -0.2136      0.1378\n",
      "MCAP          -8.883e-12  1.934e-12    -4.5941     0.0000  -1.268e-11  -5.091e-12\n",
      "FCFF          -1.571e-13  2.702e-12    -0.0582     0.9536  -5.456e-12   5.142e-12\n",
      "GROWPOT          -0.0021     0.0026    -0.8166     0.4143     -0.0072      0.0030\n",
      "SOLV             -0.0007  7.083e-05    -9.5496     0.0000     -0.0008     -0.0005\n",
      "SORA              0.0099     0.0110     0.8956     0.3706     -0.0118      0.0315\n",
      "CPI              -0.0012     0.0029    -0.4263     0.6700     -0.0068      0.0044\n",
      "=================================================================================\n"
     ]
    }
   ],
   "source": [
    "sgx = sgx.set_index(['Company', 'Year'])\n",
    "\n",
    "endo = sgx.LEVERAGE\n",
    "exog_vars = ['SIZE',\n",
    "             'PROFITABILITY',\n",
    "             'TANG',\n",
    "             'RISK',\n",
    "             'LIQUID',\n",
    "             'DTSHIELD',\n",
    "             'MCAP',\n",
    "             'FCFF',\n",
    "             'GROWPOT',\n",
    "             'SOLV',\n",
    "             'SORA',\n",
    "             'CPI']\n",
    "exog = sm.add_constant(sgx[exog_vars])\n",
    "\n",
    "pooled_mod = PooledOLS(dependent = endo,\n",
    "                       exog = exog)\n",
    "pooled_res = pooled_mod.fit()\n",
    "print(pooled_res.summary)"
   ]
  },
  {
   "cell_type": "markdown",
   "metadata": {},
   "source": [
    "The most insignificant variable is DTSHIELD (debt tax shield)."
   ]
  },
  {
   "cell_type": "code",
   "execution_count": null,
   "metadata": {},
   "outputs": [],
   "source": []
  }
 ],
 "metadata": {
  "kernelspec": {
   "display_name": "base",
   "language": "python",
   "name": "python3"
  },
  "language_info": {
   "codemirror_mode": {
    "name": "ipython",
    "version": 3
   },
   "file_extension": ".py",
   "mimetype": "text/x-python",
   "name": "python",
   "nbconvert_exporter": "python",
   "pygments_lexer": "ipython3",
   "version": "3.11.5"
  }
 },
 "nbformat": 4,
 "nbformat_minor": 2
}
