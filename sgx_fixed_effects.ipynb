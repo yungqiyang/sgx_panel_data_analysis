{
 "cells": [
  {
   "cell_type": "markdown",
   "metadata": {},
   "source": [
    "# Test for Fixed Effects"
   ]
  },
  {
   "cell_type": "markdown",
   "metadata": {},
   "source": [
    "## Load Libraries and Dataset"
   ]
  },
  {
   "cell_type": "markdown",
   "metadata": {},
   "source": [
    "### Libraries"
   ]
  },
  {
   "cell_type": "code",
   "execution_count": 1,
   "metadata": {},
   "outputs": [],
   "source": [
    "import numpy as np\n",
    "import pandas as pd\n",
    "\n",
    "import scipy.stats as stats\n",
    "import statsmodels.api as sm\n",
    "from linearmodels.panel import PanelOLS\n",
    "\n",
    "from statsmodels.iolib import load_pickle, save_pickle"
   ]
  },
  {
   "cell_type": "markdown",
   "metadata": {},
   "source": [
    "### Dataset and PanelOLS Object"
   ]
  },
  {
   "cell_type": "code",
   "execution_count": 2,
   "metadata": {},
   "outputs": [],
   "source": [
    "sgx = pd.read_csv(\"data/clean_sgx.csv\", index_col= None)"
   ]
  },
  {
   "cell_type": "code",
   "execution_count": 3,
   "metadata": {},
   "outputs": [],
   "source": [
    "sgx = sgx[['Company Code', 'Year', 'LEVERAGE',\n",
    "           'SIZE', 'PROFITABILITY', 'TANG', 'LIQUID', 'MCAP', 'SOLV']]\n",
    "sgx['year'] = pd.Categorical(sgx['Year'])\n",
    "sgx['compcode'] = pd.Categorical(sgx['Company Code'])\n",
    "sgx = sgx.set_index(['Company Code', 'Year'])\n",
    "\n",
    "endo = sgx.LEVERAGE\n",
    "exog_vars = ['SIZE', 'PROFITABILITY', 'TANG', 'LIQUID', 'MCAP', 'SOLV']\n",
    "exog = sm.add_constant(sgx[exog_vars])"
   ]
  },
  {
   "cell_type": "code",
   "execution_count": 4,
   "metadata": {},
   "outputs": [
    {
     "data": {
      "text/html": [
       "<div>\n",
       "<style scoped>\n",
       "    .dataframe tbody tr th:only-of-type {\n",
       "        vertical-align: middle;\n",
       "    }\n",
       "\n",
       "    .dataframe tbody tr th {\n",
       "        vertical-align: top;\n",
       "    }\n",
       "\n",
       "    .dataframe thead th {\n",
       "        text-align: right;\n",
       "    }\n",
       "</style>\n",
       "<table border=\"1\" class=\"dataframe\">\n",
       "  <thead>\n",
       "    <tr style=\"text-align: right;\">\n",
       "      <th></th>\n",
       "      <th></th>\n",
       "      <th>LEVERAGE</th>\n",
       "      <th>SIZE</th>\n",
       "      <th>PROFITABILITY</th>\n",
       "      <th>TANG</th>\n",
       "      <th>LIQUID</th>\n",
       "      <th>MCAP</th>\n",
       "      <th>SOLV</th>\n",
       "      <th>year</th>\n",
       "      <th>compcode</th>\n",
       "    </tr>\n",
       "    <tr>\n",
       "      <th>Company Code</th>\n",
       "      <th>Year</th>\n",
       "      <th></th>\n",
       "      <th></th>\n",
       "      <th></th>\n",
       "      <th></th>\n",
       "      <th></th>\n",
       "      <th></th>\n",
       "      <th></th>\n",
       "      <th></th>\n",
       "      <th></th>\n",
       "    </tr>\n",
       "  </thead>\n",
       "  <tbody>\n",
       "    <tr>\n",
       "      <th rowspan=\"8\" valign=\"top\">3</th>\n",
       "      <th>2015</th>\n",
       "      <td>-0.235443</td>\n",
       "      <td>17.927564</td>\n",
       "      <td>-0.094659</td>\n",
       "      <td>0.176726</td>\n",
       "      <td>1.563892</td>\n",
       "      <td>3.726956e+07</td>\n",
       "      <td>-31.451</td>\n",
       "      <td>2015</td>\n",
       "      <td>3</td>\n",
       "    </tr>\n",
       "    <tr>\n",
       "      <th>2016</th>\n",
       "      <td>-0.206973</td>\n",
       "      <td>17.984885</td>\n",
       "      <td>-0.010839</td>\n",
       "      <td>0.096761</td>\n",
       "      <td>1.505202</td>\n",
       "      <td>6.995037e+06</td>\n",
       "      <td>-7.719</td>\n",
       "      <td>2016</td>\n",
       "      <td>3</td>\n",
       "    </tr>\n",
       "    <tr>\n",
       "      <th>2017</th>\n",
       "      <td>-0.238219</td>\n",
       "      <td>18.136273</td>\n",
       "      <td>-0.013888</td>\n",
       "      <td>0.081307</td>\n",
       "      <td>1.343012</td>\n",
       "      <td>7.919165e+06</td>\n",
       "      <td>-8.678</td>\n",
       "      <td>2017</td>\n",
       "      <td>3</td>\n",
       "    </tr>\n",
       "    <tr>\n",
       "      <th>2018</th>\n",
       "      <td>-0.259016</td>\n",
       "      <td>18.114074</td>\n",
       "      <td>0.013371</td>\n",
       "      <td>0.079477</td>\n",
       "      <td>1.351929</td>\n",
       "      <td>9.212378e+06</td>\n",
       "      <td>0.966</td>\n",
       "      <td>2018</td>\n",
       "      <td>3</td>\n",
       "    </tr>\n",
       "    <tr>\n",
       "      <th>2019</th>\n",
       "      <td>-0.222870</td>\n",
       "      <td>17.978821</td>\n",
       "      <td>0.078838</td>\n",
       "      <td>0.113450</td>\n",
       "      <td>1.558678</td>\n",
       "      <td>1.931658e+07</td>\n",
       "      <td>11.465</td>\n",
       "      <td>2019</td>\n",
       "      <td>3</td>\n",
       "    </tr>\n",
       "    <tr>\n",
       "      <th>2020</th>\n",
       "      <td>-0.353373</td>\n",
       "      <td>18.184655</td>\n",
       "      <td>0.126747</td>\n",
       "      <td>0.077289</td>\n",
       "      <td>1.653512</td>\n",
       "      <td>1.459661e+07</td>\n",
       "      <td>61.729</td>\n",
       "      <td>2020</td>\n",
       "      <td>3</td>\n",
       "    </tr>\n",
       "    <tr>\n",
       "      <th>2021</th>\n",
       "      <td>-0.354726</td>\n",
       "      <td>18.488321</td>\n",
       "      <td>0.118694</td>\n",
       "      <td>0.060646</td>\n",
       "      <td>1.582983</td>\n",
       "      <td>2.725603e+07</td>\n",
       "      <td>194.000</td>\n",
       "      <td>2021</td>\n",
       "      <td>3</td>\n",
       "    </tr>\n",
       "    <tr>\n",
       "      <th>2022</th>\n",
       "      <td>-0.473794</td>\n",
       "      <td>18.382137</td>\n",
       "      <td>0.079766</td>\n",
       "      <td>0.063917</td>\n",
       "      <td>1.825263</td>\n",
       "      <td>4.331235e+07</td>\n",
       "      <td>56.147</td>\n",
       "      <td>2022</td>\n",
       "      <td>3</td>\n",
       "    </tr>\n",
       "    <tr>\n",
       "      <th rowspan=\"8\" valign=\"top\">10</th>\n",
       "      <th>2015</th>\n",
       "      <td>-0.027551</td>\n",
       "      <td>17.648089</td>\n",
       "      <td>0.029971</td>\n",
       "      <td>0.094432</td>\n",
       "      <td>1.726605</td>\n",
       "      <td>1.888834e+07</td>\n",
       "      <td>-1.277</td>\n",
       "      <td>2015</td>\n",
       "      <td>10</td>\n",
       "    </tr>\n",
       "    <tr>\n",
       "      <th>2016</th>\n",
       "      <td>0.026441</td>\n",
       "      <td>17.779968</td>\n",
       "      <td>0.035823</td>\n",
       "      <td>0.151546</td>\n",
       "      <td>1.365213</td>\n",
       "      <td>8.499886e+06</td>\n",
       "      <td>1.285</td>\n",
       "      <td>2016</td>\n",
       "      <td>10</td>\n",
       "    </tr>\n",
       "    <tr>\n",
       "      <th>2017</th>\n",
       "      <td>0.071474</td>\n",
       "      <td>17.879947</td>\n",
       "      <td>0.042540</td>\n",
       "      <td>0.163954</td>\n",
       "      <td>1.398815</td>\n",
       "      <td>9.514661e+06</td>\n",
       "      <td>0.764</td>\n",
       "      <td>2017</td>\n",
       "      <td>10</td>\n",
       "    </tr>\n",
       "    <tr>\n",
       "      <th>2018</th>\n",
       "      <td>0.124074</td>\n",
       "      <td>17.825039</td>\n",
       "      <td>-0.001821</td>\n",
       "      <td>0.153358</td>\n",
       "      <td>1.303544</td>\n",
       "      <td>6.367345e+06</td>\n",
       "      <td>-2.850</td>\n",
       "      <td>2018</td>\n",
       "      <td>10</td>\n",
       "    </tr>\n",
       "    <tr>\n",
       "      <th>2019</th>\n",
       "      <td>0.267393</td>\n",
       "      <td>17.789708</td>\n",
       "      <td>-0.071748</td>\n",
       "      <td>0.298266</td>\n",
       "      <td>1.079697</td>\n",
       "      <td>3.209531e+06</td>\n",
       "      <td>-5.687</td>\n",
       "      <td>2019</td>\n",
       "      <td>10</td>\n",
       "    </tr>\n",
       "    <tr>\n",
       "      <th>2020</th>\n",
       "      <td>0.300076</td>\n",
       "      <td>17.569981</td>\n",
       "      <td>0.006588</td>\n",
       "      <td>0.283695</td>\n",
       "      <td>1.066758</td>\n",
       "      <td>2.340626e+06</td>\n",
       "      <td>-3.112</td>\n",
       "      <td>2020</td>\n",
       "      <td>10</td>\n",
       "    </tr>\n",
       "    <tr>\n",
       "      <th>2021</th>\n",
       "      <td>0.231850</td>\n",
       "      <td>17.314345</td>\n",
       "      <td>-0.032096</td>\n",
       "      <td>0.229591</td>\n",
       "      <td>1.047314</td>\n",
       "      <td>1.254450e+06</td>\n",
       "      <td>-5.483</td>\n",
       "      <td>2021</td>\n",
       "      <td>10</td>\n",
       "    </tr>\n",
       "    <tr>\n",
       "      <th>2022</th>\n",
       "      <td>0.234610</td>\n",
       "      <td>17.319097</td>\n",
       "      <td>0.068364</td>\n",
       "      <td>0.187101</td>\n",
       "      <td>1.020956</td>\n",
       "      <td>1.134966e+06</td>\n",
       "      <td>-0.086</td>\n",
       "      <td>2022</td>\n",
       "      <td>10</td>\n",
       "    </tr>\n",
       "    <tr>\n",
       "      <th rowspan=\"8\" valign=\"top\">12</th>\n",
       "      <th>2015</th>\n",
       "      <td>0.199280</td>\n",
       "      <td>16.916278</td>\n",
       "      <td>-0.037227</td>\n",
       "      <td>0.042269</td>\n",
       "      <td>0.536030</td>\n",
       "      <td>3.690988e+07</td>\n",
       "      <td>-2.039</td>\n",
       "      <td>2015</td>\n",
       "      <td>12</td>\n",
       "    </tr>\n",
       "    <tr>\n",
       "      <th>2016</th>\n",
       "      <td>0.073882</td>\n",
       "      <td>16.805376</td>\n",
       "      <td>-0.034099</td>\n",
       "      <td>0.039883</td>\n",
       "      <td>0.922022</td>\n",
       "      <td>4.643639e+07</td>\n",
       "      <td>-3.355</td>\n",
       "      <td>2016</td>\n",
       "      <td>12</td>\n",
       "    </tr>\n",
       "    <tr>\n",
       "      <th>2017</th>\n",
       "      <td>0.110147</td>\n",
       "      <td>16.475071</td>\n",
       "      <td>-0.230511</td>\n",
       "      <td>0.041917</td>\n",
       "      <td>1.021277</td>\n",
       "      <td>5.263948e+07</td>\n",
       "      <td>-24.447</td>\n",
       "      <td>2017</td>\n",
       "      <td>12</td>\n",
       "    </tr>\n",
       "    <tr>\n",
       "      <th>2018</th>\n",
       "      <td>0.215825</td>\n",
       "      <td>16.442061</td>\n",
       "      <td>-0.150514</td>\n",
       "      <td>0.023723</td>\n",
       "      <td>0.591639</td>\n",
       "      <td>3.172811e+07</td>\n",
       "      <td>-3.424</td>\n",
       "      <td>2018</td>\n",
       "      <td>12</td>\n",
       "    </tr>\n",
       "    <tr>\n",
       "      <th>2019</th>\n",
       "      <td>0.282343</td>\n",
       "      <td>16.787616</td>\n",
       "      <td>0.173040</td>\n",
       "      <td>0.056827</td>\n",
       "      <td>0.953543</td>\n",
       "      <td>2.625733e+07</td>\n",
       "      <td>2.233</td>\n",
       "      <td>2019</td>\n",
       "      <td>12</td>\n",
       "    </tr>\n",
       "    <tr>\n",
       "      <th>2020</th>\n",
       "      <td>0.334869</td>\n",
       "      <td>16.820698</td>\n",
       "      <td>-0.154581</td>\n",
       "      <td>0.040020</td>\n",
       "      <td>0.921919</td>\n",
       "      <td>3.505423e+07</td>\n",
       "      <td>-2.289</td>\n",
       "      <td>2020</td>\n",
       "      <td>12</td>\n",
       "    </tr>\n",
       "    <tr>\n",
       "      <th>2021</th>\n",
       "      <td>0.336646</td>\n",
       "      <td>16.516268</td>\n",
       "      <td>0.065744</td>\n",
       "      <td>0.031697</td>\n",
       "      <td>0.539579</td>\n",
       "      <td>2.424991e+07</td>\n",
       "      <td>-0.007</td>\n",
       "      <td>2021</td>\n",
       "      <td>12</td>\n",
       "    </tr>\n",
       "    <tr>\n",
       "      <th>2022</th>\n",
       "      <td>0.256070</td>\n",
       "      <td>16.609800</td>\n",
       "      <td>-0.067886</td>\n",
       "      <td>0.033637</td>\n",
       "      <td>1.397857</td>\n",
       "      <td>2.687442e+07</td>\n",
       "      <td>-4.333</td>\n",
       "      <td>2022</td>\n",
       "      <td>12</td>\n",
       "    </tr>\n",
       "    <tr>\n",
       "      <th rowspan=\"6\" valign=\"top\">14</th>\n",
       "      <th>2015</th>\n",
       "      <td>0.226407</td>\n",
       "      <td>16.374310</td>\n",
       "      <td>-0.290508</td>\n",
       "      <td>0.111944</td>\n",
       "      <td>1.161707</td>\n",
       "      <td>7.461227e+06</td>\n",
       "      <td>-53.328</td>\n",
       "      <td>2015</td>\n",
       "      <td>14</td>\n",
       "    </tr>\n",
       "    <tr>\n",
       "      <th>2016</th>\n",
       "      <td>0.131923</td>\n",
       "      <td>16.313605</td>\n",
       "      <td>-0.108950</td>\n",
       "      <td>0.105254</td>\n",
       "      <td>1.003601</td>\n",
       "      <td>5.470560e+06</td>\n",
       "      <td>-5.697</td>\n",
       "      <td>2016</td>\n",
       "      <td>14</td>\n",
       "    </tr>\n",
       "    <tr>\n",
       "      <th>2017</th>\n",
       "      <td>-0.230777</td>\n",
       "      <td>16.558217</td>\n",
       "      <td>-0.167373</td>\n",
       "      <td>0.097032</td>\n",
       "      <td>1.170574</td>\n",
       "      <td>1.183909e+07</td>\n",
       "      <td>-9.310</td>\n",
       "      <td>2017</td>\n",
       "      <td>14</td>\n",
       "    </tr>\n",
       "    <tr>\n",
       "      <th>2018</th>\n",
       "      <td>-0.100940</td>\n",
       "      <td>16.666088</td>\n",
       "      <td>-0.105473</td>\n",
       "      <td>0.291681</td>\n",
       "      <td>0.815182</td>\n",
       "      <td>1.159447e+07</td>\n",
       "      <td>-11.870</td>\n",
       "      <td>2018</td>\n",
       "      <td>14</td>\n",
       "    </tr>\n",
       "    <tr>\n",
       "      <th>2019</th>\n",
       "      <td>-0.024855</td>\n",
       "      <td>16.548582</td>\n",
       "      <td>-0.177847</td>\n",
       "      <td>0.346863</td>\n",
       "      <td>0.558211</td>\n",
       "      <td>1.657076e+07</td>\n",
       "      <td>-9.226</td>\n",
       "      <td>2019</td>\n",
       "      <td>14</td>\n",
       "    </tr>\n",
       "    <tr>\n",
       "      <th>2020</th>\n",
       "      <td>0.019507</td>\n",
       "      <td>16.513552</td>\n",
       "      <td>-0.060864</td>\n",
       "      <td>0.394418</td>\n",
       "      <td>0.477831</td>\n",
       "      <td>1.688536e+07</td>\n",
       "      <td>-6.417</td>\n",
       "      <td>2020</td>\n",
       "      <td>14</td>\n",
       "    </tr>\n",
       "  </tbody>\n",
       "</table>\n",
       "</div>"
      ],
      "text/plain": [
       "                   LEVERAGE       SIZE  PROFITABILITY      TANG    LIQUID  \\\n",
       "Company Code Year                                                           \n",
       "3            2015 -0.235443  17.927564      -0.094659  0.176726  1.563892   \n",
       "             2016 -0.206973  17.984885      -0.010839  0.096761  1.505202   \n",
       "             2017 -0.238219  18.136273      -0.013888  0.081307  1.343012   \n",
       "             2018 -0.259016  18.114074       0.013371  0.079477  1.351929   \n",
       "             2019 -0.222870  17.978821       0.078838  0.113450  1.558678   \n",
       "             2020 -0.353373  18.184655       0.126747  0.077289  1.653512   \n",
       "             2021 -0.354726  18.488321       0.118694  0.060646  1.582983   \n",
       "             2022 -0.473794  18.382137       0.079766  0.063917  1.825263   \n",
       "10           2015 -0.027551  17.648089       0.029971  0.094432  1.726605   \n",
       "             2016  0.026441  17.779968       0.035823  0.151546  1.365213   \n",
       "             2017  0.071474  17.879947       0.042540  0.163954  1.398815   \n",
       "             2018  0.124074  17.825039      -0.001821  0.153358  1.303544   \n",
       "             2019  0.267393  17.789708      -0.071748  0.298266  1.079697   \n",
       "             2020  0.300076  17.569981       0.006588  0.283695  1.066758   \n",
       "             2021  0.231850  17.314345      -0.032096  0.229591  1.047314   \n",
       "             2022  0.234610  17.319097       0.068364  0.187101  1.020956   \n",
       "12           2015  0.199280  16.916278      -0.037227  0.042269  0.536030   \n",
       "             2016  0.073882  16.805376      -0.034099  0.039883  0.922022   \n",
       "             2017  0.110147  16.475071      -0.230511  0.041917  1.021277   \n",
       "             2018  0.215825  16.442061      -0.150514  0.023723  0.591639   \n",
       "             2019  0.282343  16.787616       0.173040  0.056827  0.953543   \n",
       "             2020  0.334869  16.820698      -0.154581  0.040020  0.921919   \n",
       "             2021  0.336646  16.516268       0.065744  0.031697  0.539579   \n",
       "             2022  0.256070  16.609800      -0.067886  0.033637  1.397857   \n",
       "14           2015  0.226407  16.374310      -0.290508  0.111944  1.161707   \n",
       "             2016  0.131923  16.313605      -0.108950  0.105254  1.003601   \n",
       "             2017 -0.230777  16.558217      -0.167373  0.097032  1.170574   \n",
       "             2018 -0.100940  16.666088      -0.105473  0.291681  0.815182   \n",
       "             2019 -0.024855  16.548582      -0.177847  0.346863  0.558211   \n",
       "             2020  0.019507  16.513552      -0.060864  0.394418  0.477831   \n",
       "\n",
       "                           MCAP     SOLV  year compcode  \n",
       "Company Code Year                                        \n",
       "3            2015  3.726956e+07  -31.451  2015        3  \n",
       "             2016  6.995037e+06   -7.719  2016        3  \n",
       "             2017  7.919165e+06   -8.678  2017        3  \n",
       "             2018  9.212378e+06    0.966  2018        3  \n",
       "             2019  1.931658e+07   11.465  2019        3  \n",
       "             2020  1.459661e+07   61.729  2020        3  \n",
       "             2021  2.725603e+07  194.000  2021        3  \n",
       "             2022  4.331235e+07   56.147  2022        3  \n",
       "10           2015  1.888834e+07   -1.277  2015       10  \n",
       "             2016  8.499886e+06    1.285  2016       10  \n",
       "             2017  9.514661e+06    0.764  2017       10  \n",
       "             2018  6.367345e+06   -2.850  2018       10  \n",
       "             2019  3.209531e+06   -5.687  2019       10  \n",
       "             2020  2.340626e+06   -3.112  2020       10  \n",
       "             2021  1.254450e+06   -5.483  2021       10  \n",
       "             2022  1.134966e+06   -0.086  2022       10  \n",
       "12           2015  3.690988e+07   -2.039  2015       12  \n",
       "             2016  4.643639e+07   -3.355  2016       12  \n",
       "             2017  5.263948e+07  -24.447  2017       12  \n",
       "             2018  3.172811e+07   -3.424  2018       12  \n",
       "             2019  2.625733e+07    2.233  2019       12  \n",
       "             2020  3.505423e+07   -2.289  2020       12  \n",
       "             2021  2.424991e+07   -0.007  2021       12  \n",
       "             2022  2.687442e+07   -4.333  2022       12  \n",
       "14           2015  7.461227e+06  -53.328  2015       14  \n",
       "             2016  5.470560e+06   -5.697  2016       14  \n",
       "             2017  1.183909e+07   -9.310  2017       14  \n",
       "             2018  1.159447e+07  -11.870  2018       14  \n",
       "             2019  1.657076e+07   -9.226  2019       14  \n",
       "             2020  1.688536e+07   -6.417  2020       14  "
      ]
     },
     "execution_count": 4,
     "metadata": {},
     "output_type": "execute_result"
    }
   ],
   "source": [
    "sgx.head(30)\n"
   ]
  },
  {
   "cell_type": "code",
   "execution_count": 5,
   "metadata": {},
   "outputs": [],
   "source": [
    "pooled_res = load_pickle(\"model/pooled_ols.pickle\")"
   ]
  },
  {
   "cell_type": "markdown",
   "metadata": {},
   "source": [
    "## Fixed Effects Estimation"
   ]
  },
  {
   "cell_type": "code",
   "execution_count": 6,
   "metadata": {},
   "outputs": [],
   "source": [
    "def fixedeffect(endo = endo, exog = exog,\n",
    "                entity_eff = False, time_eff = False,\n",
    "                cov_type = 'unadjusted', **cov_kwargs):\n",
    "    mod = PanelOLS(endo, exog,\n",
    "                   entity_effects=entity_eff,\n",
    "                   time_effects=time_eff)\n",
    "    res = mod.fit(cov_type= cov_type, **cov_kwargs)\n",
    "\n",
    "    return res"
   ]
  },
  {
   "cell_type": "markdown",
   "metadata": {},
   "source": [
    "### Entity Fixed Effect Model"
   ]
  },
  {
   "cell_type": "code",
   "execution_count": 7,
   "metadata": {},
   "outputs": [
    {
     "name": "stdout",
     "output_type": "stream",
     "text": [
      "                          PanelOLS Estimation Summary                           \n",
      "================================================================================\n",
      "Dep. Variable:               LEVERAGE   R-squared:                        0.2401\n",
      "Estimator:                   PanelOLS   R-squared (Between):              0.1308\n",
      "No. Observations:                1728   R-squared (Within):               0.2401\n",
      "Date:                Fri, Apr 05 2024   R-squared (Overall):              0.1504\n",
      "Time:                        17:25:47   Log-likelihood                    1615.1\n",
      "Cov. Estimator:            Unadjusted                                           \n",
      "                                        F-statistic:                      79.286\n",
      "Entities:                         216   P-value                           0.0000\n",
      "Avg Obs:                       8.0000   Distribution:                  F(6,1506)\n",
      "Min Obs:                       8.0000                                           \n",
      "Max Obs:                       8.0000   F-statistic (robust):             79.286\n",
      "                                        P-value                           0.0000\n",
      "Time periods:                       8   Distribution:                  F(6,1506)\n",
      "Avg Obs:                       216.00                                           \n",
      "Min Obs:                       216.00                                           \n",
      "Max Obs:                       216.00                                           \n",
      "                                                                                \n",
      "                               Parameter Estimates                               \n",
      "=================================================================================\n",
      "               Parameter  Std. Err.     T-stat    P-value    Lower CI    Upper CI\n",
      "---------------------------------------------------------------------------------\n",
      "const            -1.5595     0.2029    -7.6857     0.0000     -1.9575     -1.1615\n",
      "SIZE              0.0834     0.0103     8.0947     0.0000      0.0632      0.1036\n",
      "PROFITABILITY    -0.2270     0.0364    -6.2424     0.0000     -0.2984     -0.1557\n",
      "TANG              0.4346     0.0365     11.909     0.0000      0.3630      0.5061\n",
      "LIQUID           -0.0228     0.0022    -10.308     0.0000     -0.0271     -0.0184\n",
      "MCAP          -4.195e-12  4.137e-12    -1.0140     0.3107  -1.231e-11    3.92e-12\n",
      "SOLV             -0.0002  5.645e-05    -3.4696     0.0005     -0.0003  -8.513e-05\n",
      "=================================================================================\n",
      "\n",
      "F-test for Poolability: 25.763\n",
      "P-value: 0.0000\n",
      "Distribution: F(215,1506)\n",
      "\n",
      "Included effects: Entity\n"
     ]
    }
   ],
   "source": [
    "entity_fe_res = fixedeffect(endo, exog, entity_eff= True)\n",
    "print(entity_fe_res.summary)"
   ]
  },
  {
   "cell_type": "markdown",
   "metadata": {},
   "source": [
    "### Time Fixed Effect Model"
   ]
  },
  {
   "cell_type": "code",
   "execution_count": 8,
   "metadata": {},
   "outputs": [
    {
     "name": "stdout",
     "output_type": "stream",
     "text": [
      "                          PanelOLS Estimation Summary                           \n",
      "================================================================================\n",
      "Dep. Variable:               LEVERAGE   R-squared:                        0.2401\n",
      "Estimator:                   PanelOLS   R-squared (Between):              0.1308\n",
      "No. Observations:                1728   R-squared (Within):               0.2401\n",
      "Date:                Fri, Apr 05 2024   R-squared (Overall):              0.1504\n",
      "Time:                        17:25:47   Log-likelihood                    1615.1\n",
      "Cov. Estimator:            Unadjusted                                           \n",
      "                                        F-statistic:                      79.286\n",
      "Entities:                         216   P-value                           0.0000\n",
      "Avg Obs:                       8.0000   Distribution:                  F(6,1506)\n",
      "Min Obs:                       8.0000                                           \n",
      "Max Obs:                       8.0000   F-statistic (robust):             79.286\n",
      "                                        P-value                           0.0000\n",
      "Time periods:                       8   Distribution:                  F(6,1506)\n",
      "Avg Obs:                       216.00                                           \n",
      "Min Obs:                       216.00                                           \n",
      "Max Obs:                       216.00                                           \n",
      "                                                                                \n",
      "                               Parameter Estimates                               \n",
      "=================================================================================\n",
      "               Parameter  Std. Err.     T-stat    P-value    Lower CI    Upper CI\n",
      "---------------------------------------------------------------------------------\n",
      "const            -1.5595     0.2029    -7.6857     0.0000     -1.9575     -1.1615\n",
      "SIZE              0.0834     0.0103     8.0947     0.0000      0.0632      0.1036\n",
      "PROFITABILITY    -0.2270     0.0364    -6.2424     0.0000     -0.2984     -0.1557\n",
      "TANG              0.4346     0.0365     11.909     0.0000      0.3630      0.5061\n",
      "LIQUID           -0.0228     0.0022    -10.308     0.0000     -0.0271     -0.0184\n",
      "MCAP          -4.195e-12  4.137e-12    -1.0140     0.3107  -1.231e-11    3.92e-12\n",
      "SOLV             -0.0002  5.645e-05    -3.4696     0.0005     -0.0003  -8.513e-05\n",
      "=================================================================================\n",
      "\n",
      "F-test for Poolability: 25.763\n",
      "P-value: 0.0000\n",
      "Distribution: F(215,1506)\n",
      "\n",
      "Included effects: Entity\n"
     ]
    }
   ],
   "source": [
    "time_fe_res = fixedeffect(endo, exog, time_eff= True)\n",
    "print(entity_fe_res.summary)"
   ]
  },
  {
   "cell_type": "markdown",
   "metadata": {},
   "source": [
    "### 2-Way Fixed Effect Model"
   ]
  },
  {
   "cell_type": "code",
   "execution_count": 9,
   "metadata": {},
   "outputs": [
    {
     "name": "stdout",
     "output_type": "stream",
     "text": [
      "                          PanelOLS Estimation Summary                           \n",
      "================================================================================\n",
      "Dep. Variable:               LEVERAGE   R-squared:                        0.2401\n",
      "Estimator:                   PanelOLS   R-squared (Between):              0.1308\n",
      "No. Observations:                1728   R-squared (Within):               0.2401\n",
      "Date:                Fri, Apr 05 2024   R-squared (Overall):              0.1504\n",
      "Time:                        17:25:47   Log-likelihood                    1615.1\n",
      "Cov. Estimator:            Unadjusted                                           \n",
      "                                        F-statistic:                      79.286\n",
      "Entities:                         216   P-value                           0.0000\n",
      "Avg Obs:                       8.0000   Distribution:                  F(6,1506)\n",
      "Min Obs:                       8.0000                                           \n",
      "Max Obs:                       8.0000   F-statistic (robust):             79.286\n",
      "                                        P-value                           0.0000\n",
      "Time periods:                       8   Distribution:                  F(6,1506)\n",
      "Avg Obs:                       216.00                                           \n",
      "Min Obs:                       216.00                                           \n",
      "Max Obs:                       216.00                                           \n",
      "                                                                                \n",
      "                               Parameter Estimates                               \n",
      "=================================================================================\n",
      "               Parameter  Std. Err.     T-stat    P-value    Lower CI    Upper CI\n",
      "---------------------------------------------------------------------------------\n",
      "const            -1.5595     0.2029    -7.6857     0.0000     -1.9575     -1.1615\n",
      "SIZE              0.0834     0.0103     8.0947     0.0000      0.0632      0.1036\n",
      "PROFITABILITY    -0.2270     0.0364    -6.2424     0.0000     -0.2984     -0.1557\n",
      "TANG              0.4346     0.0365     11.909     0.0000      0.3630      0.5061\n",
      "LIQUID           -0.0228     0.0022    -10.308     0.0000     -0.0271     -0.0184\n",
      "MCAP          -4.195e-12  4.137e-12    -1.0140     0.3107  -1.231e-11    3.92e-12\n",
      "SOLV             -0.0002  5.645e-05    -3.4696     0.0005     -0.0003  -8.513e-05\n",
      "=================================================================================\n",
      "\n",
      "F-test for Poolability: 25.763\n",
      "P-value: 0.0000\n",
      "Distribution: F(215,1506)\n",
      "\n",
      "Included effects: Entity\n"
     ]
    }
   ],
   "source": [
    "tw_fe_res = fixedeffect(endo, exog, entity_eff= True, time_eff= True)\n",
    "print(entity_fe_res.summary)"
   ]
  },
  {
   "cell_type": "markdown",
   "metadata": {},
   "source": [
    "### F-test for Fixed Effects"
   ]
  },
  {
   "cell_type": "markdown",
   "metadata": {},
   "source": [
    "### Joint test for 2-Way FE"
   ]
  },
  {
   "cell_type": "code",
   "execution_count": 10,
   "metadata": {},
   "outputs": [
    {
     "name": "stdout",
     "output_type": "stream",
     "text": [
      "Pooled F-statistic\n",
      "H0: Effects are zero\n",
      "Statistic: 25.3104\n",
      "P-value: 0.0000\n",
      "Distributed: F(222,1499)\n"
     ]
    }
   ],
   "source": [
    "print(tw_fe_res.f_pooled)"
   ]
  },
  {
   "cell_type": "markdown",
   "metadata": {},
   "source": [
    "### Conditional F-test for Entity Fixed Effects"
   ]
  },
  {
   "cell_type": "code",
   "execution_count": 11,
   "metadata": {},
   "outputs": [
    {
     "name": "stdout",
     "output_type": "stream",
     "text": [
      "Pooled F-statistic\n",
      "H0: Effects are zero\n",
      "Statistic: 25.7635\n",
      "P-value: 0.0000\n",
      "Distributed: F(215,1506)\n"
     ]
    }
   ],
   "source": [
    "print(entity_fe_res.f_pooled)"
   ]
  },
  {
   "cell_type": "markdown",
   "metadata": {},
   "source": [
    "### Conditional F-test for Time Fixed Effects"
   ]
  },
  {
   "cell_type": "code",
   "execution_count": 12,
   "metadata": {},
   "outputs": [
    {
     "name": "stdout",
     "output_type": "stream",
     "text": [
      "Pooled F-statistic\n",
      "H0: Effects are zero\n",
      "Statistic: 1.0642\n",
      "P-value: 0.3842\n",
      "Distributed: F(7,1714)\n"
     ]
    }
   ],
   "source": [
    "print(time_fe_res.f_pooled)"
   ]
  },
  {
   "cell_type": "markdown",
   "metadata": {},
   "source": [
    "### Marginal F-test for Entity Fixed Effects"
   ]
  },
  {
   "cell_type": "code",
   "execution_count": 13,
   "metadata": {},
   "outputs": [
    {
     "name": "stdout",
     "output_type": "stream",
     "text": [
      "Pooled F-statistic\n",
      "H0: Effects are zero\n",
      "Statistic: 25.9912\n",
      "P-value: 0.0000\n",
      "Distributed: F(215,1499)\n"
     ]
    }
   ],
   "source": [
    "exog_vars_marginal_entity = ['SIZE', 'PROFITABILITY', 'TANG', 'LIQUID', 'MCAP', 'SOLV', 'year']\n",
    "exog_marginal_entity = sm.add_constant(sgx[exog_vars_marginal_entity])\n",
    "print(fixedeffect(endo, exog_marginal_entity, entity_eff= True).f_pooled)"
   ]
  },
  {
   "cell_type": "markdown",
   "metadata": {},
   "source": [
    "### Marginal F-test for Time Fixed Effects"
   ]
  },
  {
   "cell_type": "code",
   "execution_count": 14,
   "metadata": {},
   "outputs": [
    {
     "name": "stdout",
     "output_type": "stream",
     "text": [
      "Pooled F-statistic\n",
      "H0: Effects are zero\n",
      "Statistic: 3.2219\n",
      "P-value: 0.0021\n",
      "Distributed: F(7,1499)\n"
     ]
    }
   ],
   "source": [
    "exog_vars_marginal_time = ['SIZE', 'PROFITABILITY', 'TANG', 'LIQUID', 'MCAP', 'SOLV', 'compcode']\n",
    "exog_marginal_time = sm.add_constant(sgx[exog_vars_marginal_time])\n",
    "print(fixedeffect(endo, exog_marginal_time, time_eff = True).f_pooled)"
   ]
  },
  {
   "cell_type": "markdown",
   "metadata": {},
   "source": [
    "Significant F-tests suggests that a 2-way fixed effects estimation model is most preferred if fixed effects are to be assumed."
   ]
  },
  {
   "cell_type": "markdown",
   "metadata": {},
   "source": [
    "### Robust Estimation of Entity fixed effects model"
   ]
  },
  {
   "cell_type": "code",
   "execution_count": 15,
   "metadata": {},
   "outputs": [
    {
     "name": "stdout",
     "output_type": "stream",
     "text": [
      "                          PanelOLS Estimation Summary                           \n",
      "================================================================================\n",
      "Dep. Variable:               LEVERAGE   R-squared:                        0.2401\n",
      "Estimator:                   PanelOLS   R-squared (Between):              0.1308\n",
      "No. Observations:                1728   R-squared (Within):               0.2401\n",
      "Date:                Fri, Apr 05 2024   R-squared (Overall):              0.1504\n",
      "Time:                        17:25:48   Log-likelihood                    1615.1\n",
      "Cov. Estimator:             Clustered                                           \n",
      "                                        F-statistic:                      79.286\n",
      "Entities:                         216   P-value                           0.0000\n",
      "Avg Obs:                       8.0000   Distribution:                  F(6,1506)\n",
      "Min Obs:                       8.0000                                           \n",
      "Max Obs:                       8.0000   F-statistic (robust):             18.662\n",
      "                                        P-value                           0.0000\n",
      "Time periods:                       8   Distribution:                  F(6,1506)\n",
      "Avg Obs:                       216.00                                           \n",
      "Min Obs:                       216.00                                           \n",
      "Max Obs:                       216.00                                           \n",
      "                                                                                \n",
      "                               Parameter Estimates                               \n",
      "=================================================================================\n",
      "               Parameter  Std. Err.     T-stat    P-value    Lower CI    Upper CI\n",
      "---------------------------------------------------------------------------------\n",
      "const            -1.5595     0.4675    -3.3358     0.0009     -2.4765     -0.6425\n",
      "SIZE              0.0834     0.0238     3.5041     0.0005      0.0367      0.1301\n",
      "PROFITABILITY    -0.2270     0.0543    -4.1783     0.0000     -0.3336     -0.1205\n",
      "TANG              0.4346     0.0807     5.3864     0.0000      0.2763      0.5928\n",
      "LIQUID           -0.0228     0.0062    -3.6503     0.0003     -0.0350     -0.0105\n",
      "MCAP          -4.195e-12  3.294e-12    -1.2735     0.2030  -1.066e-11   2.266e-12\n",
      "SOLV             -0.0002     0.0001    -1.7470     0.0808     -0.0004   2.405e-05\n",
      "=================================================================================\n",
      "\n",
      "F-test for Poolability: 25.763\n",
      "P-value: 0.0000\n",
      "Distribution: F(215,1506)\n",
      "\n",
      "Included effects: Entity\n"
     ]
    }
   ],
   "source": [
    "entity_clus_entity_fe = fixedeffect(endo, exog, entity_eff= True, cov_type= 'clustered', cluster_entity= True)\n",
    "print(entity_clus_entity_fe.summary)"
   ]
  },
  {
   "cell_type": "code",
   "execution_count": 16,
   "metadata": {},
   "outputs": [
    {
     "name": "stdout",
     "output_type": "stream",
     "text": [
      "                          PanelOLS Estimation Summary                           \n",
      "================================================================================\n",
      "Dep. Variable:               LEVERAGE   R-squared:                        0.2401\n",
      "Estimator:                   PanelOLS   R-squared (Between):              0.1308\n",
      "No. Observations:                1728   R-squared (Within):               0.2401\n",
      "Date:                Fri, Apr 05 2024   R-squared (Overall):              0.1504\n",
      "Time:                        17:25:48   Log-likelihood                    1615.1\n",
      "Cov. Estimator:             Clustered                                           \n",
      "                                        F-statistic:                      79.286\n",
      "Entities:                         216   P-value                           0.0000\n",
      "Avg Obs:                       8.0000   Distribution:                  F(6,1506)\n",
      "Min Obs:                       8.0000                                           \n",
      "Max Obs:                       8.0000   F-statistic (robust):             1708.8\n",
      "                                        P-value                           0.0000\n",
      "Time periods:                       8   Distribution:                  F(6,1506)\n",
      "Avg Obs:                       216.00                                           \n",
      "Min Obs:                       216.00                                           \n",
      "Max Obs:                       216.00                                           \n",
      "                                                                                \n",
      "                               Parameter Estimates                               \n",
      "=================================================================================\n",
      "               Parameter  Std. Err.     T-stat    P-value    Lower CI    Upper CI\n",
      "---------------------------------------------------------------------------------\n",
      "const            -1.5595     0.4775    -3.2657     0.0011     -2.4962     -0.6228\n",
      "SIZE              0.0834     0.0240     3.4770     0.0005      0.0364      0.1305\n",
      "PROFITABILITY    -0.2270     0.0752    -3.0176     0.0026     -0.3746     -0.0795\n",
      "TANG              0.4346     0.0508     8.5464     0.0000      0.3348      0.5343\n",
      "LIQUID           -0.0228     0.0070    -3.2436     0.0012     -0.0365     -0.0090\n",
      "MCAP          -4.195e-12  1.055e-12    -3.9751     0.0001  -6.265e-12  -2.125e-12\n",
      "SOLV             -0.0002  6.304e-05    -3.1069     0.0019     -0.0003   -7.22e-05\n",
      "=================================================================================\n",
      "\n",
      "F-test for Poolability: 25.763\n",
      "P-value: 0.0000\n",
      "Distribution: F(215,1506)\n",
      "\n",
      "Included effects: Entity\n"
     ]
    }
   ],
   "source": [
    "entity_clus_time_fe = fixedeffect(endo, exog, entity_eff= True, cov_type= 'clustered', cluster_time= True)\n",
    "print(entity_clus_time_fe.summary)"
   ]
  },
  {
   "cell_type": "markdown",
   "metadata": {},
   "source": [
    "### Robust Estimation of 2-Way fixed effects model"
   ]
  },
  {
   "cell_type": "code",
   "execution_count": 17,
   "metadata": {},
   "outputs": [
    {
     "name": "stdout",
     "output_type": "stream",
     "text": [
      "                          PanelOLS Estimation Summary                           \n",
      "================================================================================\n",
      "Dep. Variable:               LEVERAGE   R-squared:                        0.2294\n",
      "Estimator:                   PanelOLS   R-squared (Between):              0.1387\n",
      "No. Observations:                1728   R-squared (Within):               0.2397\n",
      "Date:                Fri, Apr 05 2024   R-squared (Overall):              0.1569\n",
      "Time:                        17:25:48   Log-likelihood                    1628.0\n",
      "Cov. Estimator:             Clustered                                           \n",
      "                                        F-statistic:                      74.386\n",
      "Entities:                         216   P-value                           0.0000\n",
      "Avg Obs:                       8.0000   Distribution:                  F(6,1499)\n",
      "Min Obs:                       8.0000                                           \n",
      "Max Obs:                       8.0000   F-statistic (robust):             15.283\n",
      "                                        P-value                           0.0000\n",
      "Time periods:                       8   Distribution:                  F(6,1499)\n",
      "Avg Obs:                       216.00                                           \n",
      "Min Obs:                       216.00                                           \n",
      "Max Obs:                       216.00                                           \n",
      "                                                                                \n",
      "                               Parameter Estimates                               \n",
      "=================================================================================\n",
      "               Parameter  Std. Err.     T-stat    P-value    Lower CI    Upper CI\n",
      "---------------------------------------------------------------------------------\n",
      "const            -1.5191     0.5081    -2.9899     0.0028     -2.5157     -0.5225\n",
      "SIZE              0.0816     0.0259     3.1492     0.0017      0.0308      0.1325\n",
      "PROFITABILITY    -0.2288     0.0562    -4.0735     0.0000     -0.3390     -0.1186\n",
      "TANG              0.4097     0.0849     4.8235     0.0000      0.2431      0.5763\n",
      "LIQUID           -0.0228     0.0066    -3.4833     0.0005     -0.0357     -0.0100\n",
      "MCAP          -3.265e-12  3.564e-12    -0.9161     0.3598  -1.026e-11   3.727e-12\n",
      "SOLV             -0.0002     0.0001    -1.5528     0.1207     -0.0004   4.813e-05\n",
      "=================================================================================\n",
      "\n",
      "F-test for Poolability: 25.310\n",
      "P-value: 0.0000\n",
      "Distribution: F(222,1499)\n",
      "\n",
      "Included effects: Entity, Time\n"
     ]
    }
   ],
   "source": [
    "tw_clus_entity_fe = fixedeffect(endo, exog, entity_eff= True, time_eff= True, cov_type= 'clustered', cluster_entity= True)\n",
    "print(tw_clus_entity_fe.summary)"
   ]
  },
  {
   "cell_type": "code",
   "execution_count": 18,
   "metadata": {},
   "outputs": [
    {
     "name": "stdout",
     "output_type": "stream",
     "text": [
      "                          PanelOLS Estimation Summary                           \n",
      "================================================================================\n",
      "Dep. Variable:               LEVERAGE   R-squared:                        0.2294\n",
      "Estimator:                   PanelOLS   R-squared (Between):              0.1387\n",
      "No. Observations:                1728   R-squared (Within):               0.2397\n",
      "Date:                Fri, Apr 05 2024   R-squared (Overall):              0.1569\n",
      "Time:                        17:25:48   Log-likelihood                    1628.0\n",
      "Cov. Estimator:             Clustered                                           \n",
      "                                        F-statistic:                      74.386\n",
      "Entities:                         216   P-value                           0.0000\n",
      "Avg Obs:                       8.0000   Distribution:                  F(6,1499)\n",
      "Min Obs:                       8.0000                                           \n",
      "Max Obs:                       8.0000   F-statistic (robust):             1429.5\n",
      "                                        P-value                           0.0000\n",
      "Time periods:                       8   Distribution:                  F(6,1499)\n",
      "Avg Obs:                       216.00                                           \n",
      "Min Obs:                       216.00                                           \n",
      "Max Obs:                       216.00                                           \n",
      "                                                                                \n",
      "                               Parameter Estimates                               \n",
      "=================================================================================\n",
      "               Parameter  Std. Err.     T-stat    P-value    Lower CI    Upper CI\n",
      "---------------------------------------------------------------------------------\n",
      "const            -1.5191     0.4703    -3.2297     0.0013     -2.4417     -0.5965\n",
      "SIZE              0.0816     0.0236     3.4662     0.0005      0.0354      0.1278\n",
      "PROFITABILITY    -0.2288     0.0732    -3.1276     0.0018     -0.3723     -0.0853\n",
      "TANG              0.4097     0.0455     8.9946     0.0000      0.3203      0.4990\n",
      "LIQUID           -0.0228     0.0070    -3.2627     0.0011     -0.0365     -0.0091\n",
      "MCAP          -3.265e-12  1.166e-12    -2.8010     0.0052  -5.552e-12  -9.786e-13\n",
      "SOLV             -0.0002  6.377e-05    -2.8669     0.0042     -0.0003  -5.774e-05\n",
      "=================================================================================\n",
      "\n",
      "F-test for Poolability: 25.310\n",
      "P-value: 0.0000\n",
      "Distribution: F(222,1499)\n",
      "\n",
      "Included effects: Entity, Time\n"
     ]
    }
   ],
   "source": [
    "entity_clus_tw_fe = fixedeffect(endo, exog, entity_eff= True, time_eff= True, cov_type= 'clustered', cluster_time= True)\n",
    "print(entity_clus_tw_fe.summary)"
   ]
  },
  {
   "cell_type": "markdown",
   "metadata": {},
   "source": [
    "### Conclusion"
   ]
  },
  {
   "cell_type": "markdown",
   "metadata": {},
   "source": [
    "Both Entity and 2-way fixed effects estimation are significant but considering the insignificance of the time effects model, it could be inferred that the entity effects model could be preferred to the 2-way fixed effects model as it is already capable of capturing the within cluster effects of the model. Furthermore, when conducting cluster robust estimations, accounting for the entity clusters seem to achieve a robust model whereas time clusters could possibly even misspecify the model considering the inflated F-Statistic."
   ]
  },
  {
   "cell_type": "markdown",
   "metadata": {},
   "source": [
    "### Saving the models"
   ]
  },
  {
   "cell_type": "code",
   "execution_count": 19,
   "metadata": {},
   "outputs": [],
   "source": [
    "save_pickle(entity_fe_res, \"model/entity_fe.pickle\")\n",
    "save_pickle(time_fe_res, \"model/time_fe.pickle\")\n",
    "save_pickle(tw_fe_res, \"model/tw_fe.pickle\")\n",
    "\n",
    "save_pickle(entity_clus_entity_fe, \"model/ind_clust_entity_fe.pickle\")\n",
    "save_pickle(entity_clus_time_fe, \"model/ind_clust_time_fe.pickle\")\n",
    "save_pickle(entity_clus_tw_fe, \"model/ind_clust_tw_fe.pickle\")"
   ]
  }
 ],
 "metadata": {
  "kernelspec": {
   "display_name": "base",
   "language": "python",
   "name": "python3"
  },
  "language_info": {
   "codemirror_mode": {
    "name": "ipython",
    "version": 3
   },
   "file_extension": ".py",
   "mimetype": "text/x-python",
   "name": "python",
   "nbconvert_exporter": "python",
   "pygments_lexer": "ipython3",
   "version": "3.11.5"
  }
 },
 "nbformat": 4,
 "nbformat_minor": 2
}
